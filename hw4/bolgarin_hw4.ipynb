{
 "cells": [
  {
   "cell_type": "markdown",
   "metadata": {},
   "source": [
    "# Алгоритмы интеллектуальной обработки больших объемов данных\n",
    "## Домашнее задание №4 - Метод k-средних, предобработка признаков\n"
   ]
  },
  {
   "cell_type": "markdown",
   "metadata": {},
   "source": [
    "###### <hr\\>\n",
    "**Общая информация**\n",
    "\n",
    "**Срок сдачи:** 28 ноября 2018, 06:00 <br\\>\n",
    "**Штраф за опоздание:** -2 балла после 06:00 28 ноября, -4 балла после 06:00 5 декабря, -6 баллов после 06:00 12 декабря, -8 баллов после 19 декабря\n",
    "\n",
    "При отправлении ДЗ указывайте фамилию в названии файла\n",
    "Присылать ДЗ необходимо в виде ссылки на свой github репозиторий в slack @alkhamush\n",
    "\n",
    "Необходимо в slack создать таск в приватный чат:\n",
    "/todo Фамилия Имя ссылка на гитхаб @alkhamush\n",
    "Пример:\n",
    "/todo Ксения Стройкова https://github.com/stroykova/spheremailru/stroykova_hw1.ipynb @alkhamush\n",
    "Дополнительно нужно просто скинуть ссылку в slack в личный чат\n",
    "\n",
    "Используйте данный Ipython Notebook при оформлении домашнего задания."
   ]
  },
  {
   "cell_type": "markdown",
   "metadata": {},
   "source": [
    "# Имплементация K-means\n",
    "\n",
    "Пользуясь наработками выше, имплементируйте метод k-means.  \n",
    "При инициализации необходимо задавать количество кластеров, функцию расстояния между кластерами (для оригинального k-means - евклидово расстояние) и начальное состояние генератора случайных чисел.\n",
    "\n",
    "После обучения, среди атрибутов класса `Kmeans` должны появится\n",
    "* Метки кластеров для объектов\n",
    "* Координаты центройдов кластеров\n",
    "\n",
    "k-means - это алгоритм **кластеризации**, а не классификации, а посему метод `.predict()` в нем фактически не нужен, но он может возвращать метки ближайшего кластера для объектов."
   ]
  },
  {
   "cell_type": "markdown",
   "metadata": {},
   "source": [
    "###### Задание 1 (2 баллов)\n",
    "Имплементируйте метод k-means. Задание считается выполненным, если Ваша реализация работает быстрее реализации из sklearn.\n",
    "\n",
    "Теория для выполнения задания 2 и 3 остаётся на самостоятельное изучение. Теории немного и она совсем простая.\n",
    "\n",
    "###### Задание 2 (2 балла)\n",
    "Имплементируйте класс MiniBatchKMeans, который является классом наследником Kmeans.\n",
    "\n",
    "###### Задание 3 (2 балла)\n",
    "Превратите k-means в k-means++. Для этого нужно реализовать метод в классе Kmeans, который будет инициализировать более \"хорошие\" значения центроидов. Чтобы использовался метод k-means++, в параметр init необходимо передать строковое значение 'k-means' (по умолчанию 'random').\n",
    "\n",
    "###### Задание 4 (2 балла)\n",
    "В пункте \"Проверка корректности метода\" нужно нарисовать графики, которые показывают зависимость времени выполнения алгоритма от количества сэмплов. Графики должны быть  нарисованы для различных комбинаций реализаций алгоритма (k-means, k-means++, k-means с MiniBatchKMeans, k-means++ с MiniBatchKMeans). График достаточно построить на 5-10 точках.\n",
    "\n",
    "###### Задание 5 (2 балла)\n",
    "В пункте \"Применение K-means на реальных данных\" нужно сравнить различные реализации k-means (k-means, k-means++, k-means с MiniBatchKMeans, k-means++ с MiniBatchKMeans). После чего написать вывод, в котором должно быть объяснение того, почему один алгоритм оказался лучше остальных или почему не было выявлено лучшего алгоритма.\n",
    "\n",
    "**Штрафные баллы:**\n",
    "\n",
    "1. Невыполнение PEP8 -1 балл\n",
    "2. Отсутствие фамилии в имени скрипта (скрипт должен называться по аналогии со stroykova_hw4.ipynb) -1 балл\n",
    "3. Все строчки должны быть выполнены. Нужно, чтобы output команды можно было увидеть уже в git'е. В противном случае -1 балл\n",
    "4. При оформлении ДЗ нужно пользоваться данным файлом в качестве шаблона. Не нужно удалять и видоизменять написанный код и текст. В противном случае -1 балл\n",
    "<hr\\>"
   ]
  },
  {
   "cell_type": "code",
   "execution_count": 2,
   "metadata": {},
   "outputs": [
    {
     "name": "stdout",
     "output_type": "stream",
     "text": [
      "The pycodestyle_magic extension is already loaded. To reload it, use:\n",
      "  %reload_ext pycodestyle_magic\n"
     ]
    }
   ],
   "source": [
    "import pandas as pd\n",
    "import numpy as np\n",
    "import matplotlib.pyplot as plt\n",
    "from time import time\n",
    "\n",
    "%matplotlib inline\n",
    "\n",
    "plt.style.use('ggplot')\n",
    "plt.rcParams['figure.figsize'] = (12,5)\n",
    "\n",
    "%load_ext pycodestyle_magic"
   ]
  },
  {
   "cell_type": "code",
   "execution_count": 3,
   "metadata": {},
   "outputs": [],
   "source": [
    "#%%pycodestyle\n",
    "\n",
    "\n",
    "class MyKmeans:\n",
    "\n",
    "    def __init__(self, k=2, metric='euclidean', max_iter=1000,\n",
    "                 random_state=None, init='random', eps=0.01):\n",
    "        \"\"\"\n",
    "        Инициализация метода\n",
    "        :k - количество кластеров\n",
    "        :metric - функция расстояния между объектами\n",
    "        :max_iter - максиальное количество итераций\n",
    "        :random_state - seed для инициализации генератора случайных чисел\n",
    "        \"\"\"\n",
    "\n",
    "        self.k = k\n",
    "        self.random_state = random_state\n",
    "        self.metric = metric\n",
    "        self.max_iter = max_iter\n",
    "        self.init = init\n",
    "        self.eps = eps\n",
    "\n",
    "    def get_distance(self, X, y):\n",
    "        distance = np.sum((X**2), axis=1).reshape(-1, 1) + \\\n",
    "                    np.sum((y**2), axis=1) - 2*X.dot(y.T)\n",
    "        distance[distance < 0] = 0\n",
    "        return np.sqrt(distance)\n",
    "\n",
    "    def init_centroids_kmpp(self, X):\n",
    "        for centroid in range(1, self.k):\n",
    "            min_distance = np.min(\n",
    "                self.get_distance(X, self.centroids[:centroid, :]), axis=1)\n",
    "            proba = min_distance / np.sum(min_distance)\n",
    "            self.centroids[centroid] = X[np.random.choice(X.shape[0],\n",
    "                                                          p=proba,\n",
    "                                                          replace=False)]\n",
    "\n",
    "    def fit(self, X, y=None):\n",
    "        \"\"\"\n",
    "        Процедура обучения k-means\n",
    "        \"\"\"\n",
    "        N = X.shape[0]\n",
    "        D = X.shape[1]\n",
    "\n",
    "        # Инициализация генератора случайных чисел\n",
    "        np.random.seed(self.random_state)\n",
    "\n",
    "        # Массив с метками кластеров для каждого объекта из X\n",
    "        self.labels = np.empty(N)\n",
    "\n",
    "        # Массив с центройдами кластеров\n",
    "        self.centroids = X[np.random.choice(N, size=self.k, replace=False)]\n",
    "        if self.init == 'k-means':\n",
    "            self.init_centroids_kmpp(X)\n",
    "\n",
    "        new_centroids = np.empty((self.k, D))\n",
    "        for _ in range(self.max_iter):\n",
    "            self.labels = np.argmin(\n",
    "                self.get_distance(X, self.centroids), axis=1)\n",
    "            for centroid in range(self.k):\n",
    "                if np.any(self.labels == centroid, axis=0):\n",
    "                    new_centroids[centroid] = np.mean(\n",
    "                        X[self.labels == centroid], axis=0)\n",
    "                else:\n",
    "                    new_centroids[centroid] = X[np.random.choice(N)]\n",
    "            if np.all(np.abs(new_centroids - self.centroids) < self.eps):\n",
    "                break\n",
    "\n",
    "            self.centroids = new_centroids\n",
    "\n",
    "        return self\n",
    "\n",
    "    def predict(self, X, y=None):\n",
    "        \"\"\"\n",
    "        Процедура предсказания кластера\n",
    "\n",
    "        Возвращает метку ближайшего кластера для каждого объекта\n",
    "        \"\"\"\n",
    "\n",
    "        return np.argmin(self.get_distance(X, self.centroids), axis=1)\n",
    "\n",
    "\n",
    "class MiniBatchKMeans(MyKmeans):\n",
    "\n",
    "    def __init__(self, k=2, metric='euclidean', max_iter=1000,\n",
    "                 random_state=None, init='random', eps=0.01, batch_size=10):\n",
    "        super().__init__(k, metric, max_iter, random_state, init, eps)\n",
    "        self.batch_size = batch_size\n",
    "\n",
    "    def __fit__(self, X, y=None):\n",
    "\n",
    "        N = X.shape[0]\n",
    "        D = X.shape[1]\n",
    "\n",
    "        # Инициализация генератора случайных чисел\n",
    "        np.random.seed(self.random_state)\n",
    "\n",
    "        # Массив с метками кластеров для каждого объекта из X\n",
    "        self.labels = np.empty(N)\n",
    "\n",
    "        # Массив с центройдами кластеров\n",
    "        self.centroids = X[np.random.choice(N, size=self.k, replace=False)]\n",
    "\n",
    "        if self.init == 'k-means':\n",
    "            self.init_centroids_kmpp(X)\n",
    "\n",
    "        new_centroids = np.empty((self.k, D))\n",
    "        for _ in range(self.max_iter):\n",
    "            X_batch = X[np.random.choice(N, size=self.batch_size,\n",
    "                                         replace=False)]\n",
    "            self.labels = np.argmin(self.get_distance(X_batch,\n",
    "                                                      self.centroids), axis=1)\n",
    "            for centroid in range(self.k):\n",
    "                if np.any(self.labels == centroid, axis=0):\n",
    "                    new_centroids[centroid] = np.mean(\n",
    "                        X_batch[self.labels == centroid], axis=0)\n",
    "                else:\n",
    "                    new_centroids[centroid] = X_batch[np.random.choice(N)]\n",
    "            if np.all(np.abs(new_centroids - self.centroids) < self.eps):\n",
    "                break\n",
    "\n",
    "            self.centroids = new_centroids\n",
    "\n",
    "        return self"
   ]
  },
  {
   "cell_type": "markdown",
   "metadata": {},
   "source": [
    "### Проверка корректности метода\n",
    "\n",
    "Перед тем как применять алгоритм на реальных данных, нужно испытать его на простых \"игрушечных\" данных.\n",
    "\n",
    "Если алгоритм реализован правильно, то метод должен идеально разбивать на 3 кластера данные ниже. Проверьте это.\n",
    "\n",
    "ВНИМАНИЕ! Проверка должна быть осуществлена на всех реализациях, иначе реализация не будет зачтена!"
   ]
  },
  {
   "cell_type": "code",
   "execution_count": 4,
   "metadata": {},
   "outputs": [],
   "source": [
    "from sklearn.datasets import make_blobs\n",
    "from sklearn.cluster import KMeans"
   ]
  },
  {
   "cell_type": "code",
   "execution_count": 5,
   "metadata": {},
   "outputs": [],
   "source": [
    "X, y = make_blobs(n_samples=100, n_features=2, centers=3, cluster_std=1,\n",
    "           center_box=(-10.0, 10.0), shuffle=False, random_state=1234)"
   ]
  },
  {
   "cell_type": "code",
   "execution_count": 6,
   "metadata": {},
   "outputs": [
    {
     "data": {
      "text/plain": [
       "<matplotlib.collections.PathCollection at 0x2089673dd68>"
      ]
     },
     "execution_count": 6,
     "metadata": {},
     "output_type": "execute_result"
    },
    {
     "data": {
      "image/png": "[encoded data removed]",
      "text/plain": [
       "<Figure size 864x360 with 1 Axes>"
      ]
     },
     "metadata": {},
     "output_type": "display_data"
    }
   ],
   "source": [
    "plt.scatter(X[:,0], X[:, 1], c=y)"
   ]
  },
  {
   "cell_type": "markdown",
   "metadata": {},
   "source": [
    "Проверьте Вашу имплементацию на простых данных (без этого пункта ДЗ не считается выполненным).   \n",
    "КОММЕНТАРИИ НЕ СТИРАТЬ!"
   ]
  },
  {
   "cell_type": "code",
   "execution_count": 8,
   "metadata": {},
   "outputs": [
    {
     "data": {
      "text/plain": [
       "<matplotlib.collections.PathCollection at 0x208967ee390>"
      ]
     },
     "execution_count": 8,
     "metadata": {},
     "output_type": "execute_result"
    },
    {
     "data": {
      "image/png": "[encoded data removed]",
      "text/plain": [
       "<Figure size 864x360 with 1 Axes>"
      ]
     },
     "metadata": {},
     "output_type": "display_data"
    }
   ],
   "source": [
    "## Работоспособность MyKmeans\n",
    "my_kmeans = MyKmeans(k=3)\n",
    "my_kmeans.fit(X)\n",
    "prediction = my_kmeans.predict(X)\n",
    "\n",
    "plt.scatter(X[:, 0], X[:, 1], c=prediction)\n",
    "plt.scatter(my_kmeans.centroids[:, 0], my_kmeans.centroids[:, 1])"
   ]
  },
  {
   "cell_type": "code",
   "execution_count": 9,
   "metadata": {},
   "outputs": [
    {
     "data": {
      "text/plain": [
       "<matplotlib.collections.PathCollection at 0x20896857cc0>"
      ]
     },
     "execution_count": 9,
     "metadata": {},
     "output_type": "execute_result"
    },
    {
     "data": {
      "image/png": "[encoded data removed]",
      "text/plain": [
       "<Figure size 864x360 with 1 Axes>"
      ]
     },
     "metadata": {},
     "output_type": "display_data"
    }
   ],
   "source": [
    "## Работоспособность MyKmeans++\n",
    "my_kmeans = MyKmeans(k=3, init=\"k-means\")\n",
    "my_kmeans.fit(X)\n",
    "prediction = my_kmeans.predict(X)\n",
    "\n",
    "plt.scatter(X[:, 0], X[:, 1], c=prediction)\n",
    "plt.scatter(my_kmeans.centroids[:, 0], my_kmeans.centroids[:, 1])"
   ]
  },
  {
   "cell_type": "code",
   "execution_count": 10,
   "metadata": {},
   "outputs": [
    {
     "data": {
      "text/plain": [
       "<matplotlib.collections.PathCollection at 0x2089694a588>"
      ]
     },
     "execution_count": 10,
     "metadata": {},
     "output_type": "execute_result"
    },
    {
     "data": {
      "image/png": "[encoded data removed]",
      "text/plain": [
       "<Figure size 864x360 with 1 Axes>"
      ]
     },
     "metadata": {},
     "output_type": "display_data"
    }
   ],
   "source": [
    "## Работоспособность MyKmeans с MiniBatchMyKmeans\n",
    "my_kmeans = MiniBatchKMeans(k=3)\n",
    "my_kmeans.fit(X)\n",
    "prediction = my_kmeans.predict(X)\n",
    "\n",
    "plt.scatter(X[:, 0], X[:, 1], c=prediction)\n",
    "plt.scatter(my_kmeans.centroids[:, 0], my_kmeans.centroids[:, 1])"
   ]
  },
  {
   "cell_type": "code",
   "execution_count": 11,
   "metadata": {},
   "outputs": [
    {
     "data": {
      "text/plain": [
       "<matplotlib.collections.PathCollection at 0x20896af0da0>"
      ]
     },
     "execution_count": 11,
     "metadata": {},
     "output_type": "execute_result"
    },
    {
     "data": {
      "image/png": "[encoded data removed]",
      "text/plain": [
       "<Figure size 864x360 with 1 Axes>"
      ]
     },
     "metadata": {},
     "output_type": "display_data"
    }
   ],
   "source": [
    "## Работоспособность MyKmeans++ с MiniBatchMyKmeans\n",
    "my_kmeans = MiniBatchKMeans(k=3, init=\"k-means\")\n",
    "my_kmeans.fit(X)\n",
    "prediction = my_kmeans.predict(X)\n",
    "\n",
    "plt.scatter(X[:, 0], X[:, 1], c=prediction)\n",
    "plt.scatter(my_kmeans.centroids[:, 0], my_kmeans.centroids[:, 1])"
   ]
  },
  {
   "cell_type": "code",
   "execution_count": 12,
   "metadata": {},
   "outputs": [
    {
     "name": "stdout",
     "output_type": "stream",
     "text": [
      "8.432ms\n"
     ]
    }
   ],
   "source": [
    "## Время выполнения алгоритма Kmeans из sklearn\n",
    "start = time()\n",
    "\n",
    "kmeans = KMeans(n_clusters=3, init='random', max_iter=1000, n_init=1)\n",
    "kmeans.fit(X)\n",
    "prediction = kmeans.predict(X)\n",
    "\n",
    "print(\"%.3fms\" % (1000*(time() - start)))"
   ]
  },
  {
   "cell_type": "code",
   "execution_count": 13,
   "metadata": {},
   "outputs": [
    {
     "name": "stdout",
     "output_type": "stream",
     "text": [
      "0.496ms\n"
     ]
    }
   ],
   "source": [
    "## Время выполнения алгоритма MyKmeans\n",
    "start = time()\n",
    "\n",
    "my_kmeans = MyKmeans(k=3)\n",
    "my_kmeans.fit(X)\n",
    "prediction = my_kmeans.predict(X)\n",
    "\n",
    "print(\"%.3fms\" % (1000*(time() - start)))"
   ]
  },
  {
   "cell_type": "code",
   "execution_count": 14,
   "metadata": {},
   "outputs": [
    {
     "name": "stdout",
     "output_type": "stream",
     "text": [
      "0.993ms\n"
     ]
    }
   ],
   "source": [
    "## Время выполнения алгоритма MyKmeans++\n",
    "start = time()\n",
    "\n",
    "my_kmeans = MyKmeans(k=3, init='k-means')\n",
    "my_kmeans.fit(X)\n",
    "prediction = my_kmeans.predict(X)\n",
    "\n",
    "print(\"%.3fms\" % (1000*(time() - start)))"
   ]
  },
  {
   "cell_type": "code",
   "execution_count": 15,
   "metadata": {},
   "outputs": [
    {
     "name": "stdout",
     "output_type": "stream",
     "text": [
      "0.496ms\n"
     ]
    }
   ],
   "source": [
    "## Время выполнения алгоритма MyKmeans с MiniBatchMyKmeans\n",
    "start = time()\n",
    "\n",
    "my_kmeans = MiniBatchKMeans(k=3)\n",
    "my_kmeans.fit(X)\n",
    "prediction = my_kmeans.predict(X)\n",
    "\n",
    "print(\"%.3fms\" % (1000*(time() - start)))"
   ]
  },
  {
   "cell_type": "code",
   "execution_count": 16,
   "metadata": {},
   "outputs": [
    {
     "name": "stdout",
     "output_type": "stream",
     "text": [
      "0.992ms\n"
     ]
    }
   ],
   "source": [
    "## Время выполнения алгоритма  MyKmeans++ с MiniBatchMyKmeans\n",
    "start = time()\n",
    "\n",
    "my_kmeans = MiniBatchKMeans(k=3, init='k-means')\n",
    "my_kmeans.fit(X)\n",
    "prediction = my_kmeans.predict(X)\n",
    "\n",
    "print(\"%.3fms\" % (1000*(time() - start)))"
   ]
  },
  {
   "cell_type": "code",
   "execution_count": 17,
   "metadata": {},
   "outputs": [
    {
     "data": {
      "image/png": "[encoded data removed]",
      "text/plain": [
       "<Figure size 864x360 with 1 Axes>"
      ]
     },
     "metadata": {},
     "output_type": "display_data"
    }
   ],
   "source": [
    "models = (\n",
    "    MyKmeans(k=3),\n",
    "    MyKmeans(k=3, init='k-means'),\n",
    "    MiniBatchKMeans(k=3),\n",
    "    MiniBatchKMeans(k=3, init='k-means'),\n",
    "    KMeans(n_clusters=3, init='random', max_iter=1000, n_init=1)\n",
    ")\n",
    "\n",
    "labels = (\"MyKmeans\", \"MyKmeans++\",\n",
    "          \"MiniBatchKMeans\", \"MiniBatchKMeans++\", \"KMeans (sklearn)\")\n",
    "\n",
    "samples = range(1000, 100001, 5000)\n",
    "results = np.empty((5, len(samples)))\n",
    "for i, sample in enumerate(samples):\n",
    "    X, _ = make_blobs(n_samples=sample, n_features=2, centers=3, cluster_std=1,\n",
    "                      center_box=(-10.0, 10.0), shuffle=False,\n",
    "                      random_state=1234)\n",
    "\n",
    "    for j, model in enumerate(models):\n",
    "        start = time()\n",
    "        model.fit(X)\n",
    "        results[j][i] = time() - start\n",
    "\n",
    "for i, model in enumerate(models):\n",
    "    plt.plot(samples, results[i], label=labels[i])\n",
    "\n",
    "plt.xlabel('Количество сэмплов')\n",
    "plt.ylabel('Время выполнения алгоритма (с)')\n",
    "plt.legend()\n",
    "plt.show()"
   ]
  },
  {
   "cell_type": "markdown",
   "metadata": {},
   "source": [
    "# Применение K-means на реальных данных"
   ]
  },
  {
   "cell_type": "markdown",
   "metadata": {},
   "source": [
    "Загрузите [данные](https://github.com/brenden17/sklearnlab/blob/master/facebook/snsdata.csv) в которых содержится описание интересов профилей учеников старшей школы США.  (без этого пункта задание не считается выполненным).   \n",
    "ВНИМАНИЕ! Проверка должна быть осуществлена на всех реализациях, иначе реализация не будет зачтена!"
   ]
  },
  {
   "cell_type": "code",
   "execution_count": 18,
   "metadata": {},
   "outputs": [
    {
     "data": {
      "text/html": [
       "<div>\n",
       "<style scoped>\n",
       "    .dataframe tbody tr th:only-of-type {\n",
       "        vertical-align: middle;\n",
       "    }\n",
       "\n",
       "    .dataframe tbody tr th {\n",
       "        vertical-align: top;\n",
       "    }\n",
       "\n",
       "    .dataframe thead th {\n",
       "        text-align: right;\n",
       "    }\n",
       "</style>\n",
       "<table border=\"1\" class=\"dataframe\">\n",
       "  <thead>\n",
       "    <tr style=\"text-align: right;\">\n",
       "      <th></th>\n",
       "      <th>gradyear</th>\n",
       "      <th>gender</th>\n",
       "      <th>age</th>\n",
       "      <th>friends</th>\n",
       "      <th>basketball</th>\n",
       "      <th>football</th>\n",
       "      <th>soccer</th>\n",
       "      <th>softball</th>\n",
       "      <th>volleyball</th>\n",
       "      <th>swimming</th>\n",
       "      <th>...</th>\n",
       "      <th>blonde</th>\n",
       "      <th>mall</th>\n",
       "      <th>shopping</th>\n",
       "      <th>clothes</th>\n",
       "      <th>hollister</th>\n",
       "      <th>abercrombie</th>\n",
       "      <th>die</th>\n",
       "      <th>death</th>\n",
       "      <th>drunk</th>\n",
       "      <th>drugs</th>\n",
       "    </tr>\n",
       "  </thead>\n",
       "  <tbody>\n",
       "    <tr>\n",
       "      <th>0</th>\n",
       "      <td>2006</td>\n",
       "      <td>M</td>\n",
       "      <td>18.982</td>\n",
       "      <td>7</td>\n",
       "      <td>0</td>\n",
       "      <td>0</td>\n",
       "      <td>0</td>\n",
       "      <td>0</td>\n",
       "      <td>0</td>\n",
       "      <td>0</td>\n",
       "      <td>...</td>\n",
       "      <td>0</td>\n",
       "      <td>0</td>\n",
       "      <td>0</td>\n",
       "      <td>0</td>\n",
       "      <td>0</td>\n",
       "      <td>0</td>\n",
       "      <td>0</td>\n",
       "      <td>0</td>\n",
       "      <td>0</td>\n",
       "      <td>0</td>\n",
       "    </tr>\n",
       "    <tr>\n",
       "      <th>1</th>\n",
       "      <td>2006</td>\n",
       "      <td>F</td>\n",
       "      <td>18.801</td>\n",
       "      <td>0</td>\n",
       "      <td>0</td>\n",
       "      <td>1</td>\n",
       "      <td>0</td>\n",
       "      <td>0</td>\n",
       "      <td>0</td>\n",
       "      <td>0</td>\n",
       "      <td>...</td>\n",
       "      <td>0</td>\n",
       "      <td>1</td>\n",
       "      <td>0</td>\n",
       "      <td>0</td>\n",
       "      <td>0</td>\n",
       "      <td>0</td>\n",
       "      <td>0</td>\n",
       "      <td>0</td>\n",
       "      <td>0</td>\n",
       "      <td>0</td>\n",
       "    </tr>\n",
       "    <tr>\n",
       "      <th>2</th>\n",
       "      <td>2006</td>\n",
       "      <td>M</td>\n",
       "      <td>18.335</td>\n",
       "      <td>69</td>\n",
       "      <td>0</td>\n",
       "      <td>1</td>\n",
       "      <td>0</td>\n",
       "      <td>0</td>\n",
       "      <td>0</td>\n",
       "      <td>0</td>\n",
       "      <td>...</td>\n",
       "      <td>0</td>\n",
       "      <td>0</td>\n",
       "      <td>0</td>\n",
       "      <td>0</td>\n",
       "      <td>0</td>\n",
       "      <td>0</td>\n",
       "      <td>0</td>\n",
       "      <td>1</td>\n",
       "      <td>0</td>\n",
       "      <td>0</td>\n",
       "    </tr>\n",
       "    <tr>\n",
       "      <th>3</th>\n",
       "      <td>2006</td>\n",
       "      <td>F</td>\n",
       "      <td>18.875</td>\n",
       "      <td>0</td>\n",
       "      <td>0</td>\n",
       "      <td>0</td>\n",
       "      <td>0</td>\n",
       "      <td>0</td>\n",
       "      <td>0</td>\n",
       "      <td>0</td>\n",
       "      <td>...</td>\n",
       "      <td>0</td>\n",
       "      <td>0</td>\n",
       "      <td>0</td>\n",
       "      <td>0</td>\n",
       "      <td>0</td>\n",
       "      <td>0</td>\n",
       "      <td>0</td>\n",
       "      <td>0</td>\n",
       "      <td>0</td>\n",
       "      <td>0</td>\n",
       "    </tr>\n",
       "    <tr>\n",
       "      <th>4</th>\n",
       "      <td>2006</td>\n",
       "      <td>NaN</td>\n",
       "      <td>18.995</td>\n",
       "      <td>10</td>\n",
       "      <td>0</td>\n",
       "      <td>0</td>\n",
       "      <td>0</td>\n",
       "      <td>0</td>\n",
       "      <td>0</td>\n",
       "      <td>0</td>\n",
       "      <td>...</td>\n",
       "      <td>0</td>\n",
       "      <td>0</td>\n",
       "      <td>2</td>\n",
       "      <td>0</td>\n",
       "      <td>0</td>\n",
       "      <td>0</td>\n",
       "      <td>0</td>\n",
       "      <td>0</td>\n",
       "      <td>1</td>\n",
       "      <td>1</td>\n",
       "    </tr>\n",
       "  </tbody>\n",
       "</table>\n",
       "<p>5 rows × 40 columns</p>\n",
       "</div>"
      ],
      "text/plain": [
       "   gradyear gender     age  friends  basketball  football  soccer  softball  \\\n",
       "0      2006      M  18.982        7           0         0       0         0   \n",
       "1      2006      F  18.801        0           0         1       0         0   \n",
       "2      2006      M  18.335       69           0         1       0         0   \n",
       "3      2006      F  18.875        0           0         0       0         0   \n",
       "4      2006    NaN  18.995       10           0         0       0         0   \n",
       "\n",
       "   volleyball  swimming  ...    blonde  mall  shopping  clothes  hollister  \\\n",
       "0           0         0  ...         0     0         0        0          0   \n",
       "1           0         0  ...         0     1         0        0          0   \n",
       "2           0         0  ...         0     0         0        0          0   \n",
       "3           0         0  ...         0     0         0        0          0   \n",
       "4           0         0  ...         0     0         2        0          0   \n",
       "\n",
       "   abercrombie  die  death  drunk  drugs  \n",
       "0            0    0      0      0      0  \n",
       "1            0    0      0      0      0  \n",
       "2            0    0      1      0      0  \n",
       "3            0    0      0      0      0  \n",
       "4            0    0      0      1      1  \n",
       "\n",
       "[5 rows x 40 columns]"
      ]
     },
     "execution_count": 18,
     "metadata": {},
     "output_type": "execute_result"
    }
   ],
   "source": [
    "df_sns = pd.read_csv('snsdata.csv', sep=',')\n",
    "df_sns.head()"
   ]
  },
  {
   "cell_type": "markdown",
   "metadata": {},
   "source": [
    "Данные устроены так: \n",
    "* Год выпуска\n",
    "* Пол\n",
    "* Возраст\n",
    "* Количество друзей\n",
    "* 36 ключевых слов, которые встречаются в профилe facebook (интересы, сообщества, встречи)"
   ]
  },
  {
   "cell_type": "markdown",
   "metadata": {},
   "source": [
    "* Удалите все признаки кроме 36 ключевых слов.\n",
    "* Нормализуйте данные - из каждого столбца вычтите его среднее значение и поделите на стандартное отклонение.\n",
    "* Используйте метод k-means чтобы выделить 9 кластеров\n",
    "* Попробуйте проинтерпретировать каждый кластер проанализировав полученные центройды (Некоторые кластеры могут быть очень большие и очень маленькие - плохо интерпретируются)   \n",
    "КОММЕНТАРИИ НЕ СТИРАТЬ!"
   ]
  },
  {
   "cell_type": "code",
   "execution_count": 19,
   "metadata": {},
   "outputs": [],
   "source": [
    "df_sns = df_sns.drop(['gradyear', 'gender', 'age', 'friends'], axis='columns')\n",
    "df_sns_scaled = (df_sns - df_sns.mean()) / df_sns.std()"
   ]
  },
  {
   "cell_type": "code",
   "execution_count": 20,
   "metadata": {},
   "outputs": [],
   "source": [
    "def print_cluster_info(df, df_scaled, model):\n",
    "    model.fit(df_scaled.values)\n",
    "\n",
    "    df['cluster'] = model.labels\n",
    "    counts = df.cluster.value_counts().sort_index()\n",
    "    for cluster in range(9):\n",
    "        print('Cluster: ' + str(cluster+1))\n",
    "        print('Number of students: ' + str(counts[cluster]))\n",
    "        print(\"Popular key words:\")\n",
    "        key_words = df[df.cluster == cluster].drop(['cluster'], axis=1).mean()\n",
    "        print(key_words.T.sort_values(ascending=False)[:8])\n",
    "        print('_'*22)"
   ]
  },
  {
   "cell_type": "code",
   "execution_count": 21,
   "metadata": {
    "scrolled": false
   },
   "outputs": [
    {
     "name": "stdout",
     "output_type": "stream",
     "text": [
      "Cluster: 1\n",
      "Number of students: 1054\n",
      "Popular key words:\n",
      "music         2.304554\n",
      "hair          2.054080\n",
      "rock          1.427894\n",
      "god           1.137571\n",
      "basketball    1.107211\n",
      "cute          1.031309\n",
      "band          1.021822\n",
      "football      0.990512\n",
      "dtype: float64\n",
      "______________________\n",
      "Cluster: 2\n",
      "Number of students: 565\n",
      "Popular key words:\n",
      "dance       2.502655\n",
      "dress       2.357522\n",
      "hair        0.955752\n",
      "music       0.953982\n",
      "cute        0.815929\n",
      "shopping    0.803540\n",
      "blonde      0.697345\n",
      "god         0.596460\n",
      "dtype: float64\n",
      "______________________\n",
      "Cluster: 3\n",
      "Number of students: 2022\n",
      "Popular key words:\n",
      "death    1.288328\n",
      "music    0.861029\n",
      "god      0.860040\n",
      "hair     0.442631\n",
      "dance    0.429773\n",
      "band     0.374876\n",
      "die      0.335312\n",
      "cute     0.328882\n",
      "dtype: float64\n",
      "______________________\n",
      "Cluster: 4\n",
      "Number of students: 18045\n",
      "Popular key words:\n",
      "music         0.557495\n",
      "god           0.346800\n",
      "dance         0.262954\n",
      "band          0.238847\n",
      "hair          0.189083\n",
      "cute          0.173511\n",
      "football      0.165863\n",
      "basketball    0.161097\n",
      "dtype: float64\n",
      "______________________\n",
      "Cluster: 5\n",
      "Number of students: 455\n",
      "Popular key words:\n",
      "sex        3.786813\n",
      "hair       3.248352\n",
      "kissed     3.041758\n",
      "music      2.232967\n",
      "clothes    1.164835\n",
      "rock       1.072527\n",
      "god        1.000000\n",
      "die        0.991209\n",
      "dtype: float64\n",
      "______________________\n",
      "Cluster: 6\n",
      "Number of students: 653\n",
      "Popular key words:\n",
      "drunk        1.663093\n",
      "hair         1.081164\n",
      "hollister    0.813170\n",
      "music        0.784074\n",
      "dance        0.627871\n",
      "god          0.594181\n",
      "shopping     0.554364\n",
      "cute         0.537519\n",
      "dtype: float64\n",
      "______________________\n",
      "Cluster: 7\n",
      "Number of students: 4121\n",
      "Popular key words:\n",
      "shopping    1.171803\n",
      "mall        0.843727\n",
      "music       0.824800\n",
      "cute        0.630187\n",
      "dance       0.629216\n",
      "hair        0.544528\n",
      "god         0.502548\n",
      "church      0.487746\n",
      "dtype: float64\n",
      "______________________\n",
      "Cluster: 8\n",
      "Number of students: 2711\n",
      "Popular key words:\n",
      "sports        1.080413\n",
      "music         0.752859\n",
      "basketball    0.535965\n",
      "sexy          0.534858\n",
      "god           0.450387\n",
      "football      0.443379\n",
      "dance         0.380671\n",
      "soccer        0.378458\n",
      "dtype: float64\n",
      "______________________\n",
      "Cluster: 9\n",
      "Number of students: 374\n",
      "Popular key words:\n",
      "mall        3.668449\n",
      "die         1.427807\n",
      "music       1.064171\n",
      "hair        0.959893\n",
      "cute        0.898396\n",
      "dance       0.858289\n",
      "shopping    0.818182\n",
      "god         0.778075\n",
      "dtype: float64\n",
      "______________________\n"
     ]
    }
   ],
   "source": [
    "## MyKMeans\n",
    "print_cluster_info(df_sns, df_sns_scaled, MyKmeans(k=9))"
   ]
  },
  {
   "cell_type": "markdown",
   "metadata": {},
   "source": [
    "Примечание: после перезапуска кластеры меняются и данная интерпретация теряет смысл\n",
    "\n",
    "Описание кластеров:\n",
    "1. Люди, увлекающиеся рок музыкой, немного религиозные\n",
    "2. Люди, увлекающиеся танцами\n",
    "3. Религиозные люди\n",
    "4. Большой кластер, плохо интерпретируется\n",
    "5. Похоже на темы всяких журналов для подростков\n",
    "6. Тусовщики\n",
    "7. Люди, увлекающиеся шоппингом\n",
    "8. Спортсмены\n",
    "9. Самый маленький кластер, люди любят торговые центры и, возможно, депрессивную музыку"
   ]
  },
  {
   "cell_type": "code",
   "execution_count": 22,
   "metadata": {
    "scrolled": false
   },
   "outputs": [
    {
     "name": "stdout",
     "output_type": "stream",
     "text": [
      "Cluster: 1\n",
      "Number of students: 2729\n",
      "Popular key words:\n",
      "god       1.599853\n",
      "sexy      1.104434\n",
      "music     0.835471\n",
      "dance     0.572737\n",
      "hair      0.571638\n",
      "cute      0.548553\n",
      "church    0.519971\n",
      "jesus     0.399780\n",
      "dtype: float64\n",
      "______________________\n",
      "Cluster: 2\n",
      "Number of students: 929\n",
      "Popular key words:\n",
      "band        3.672766\n",
      "marching    1.260495\n",
      "music       1.259419\n",
      "hair        0.540366\n",
      "god         0.539290\n",
      "dance       0.463940\n",
      "rock        0.376749\n",
      "sports      0.322928\n",
      "dtype: float64\n",
      "______________________\n",
      "Cluster: 3\n",
      "Number of students: 18819\n",
      "Popular key words:\n",
      "music         0.529305\n",
      "dance         0.281311\n",
      "god           0.254105\n",
      "soccer        0.192571\n",
      "hair          0.190765\n",
      "cute          0.186673\n",
      "basketball    0.173282\n",
      "rock          0.155109\n",
      "dtype: float64\n",
      "______________________\n",
      "Cluster: 4\n",
      "Number of students: 3326\n",
      "Popular key words:\n",
      "shopping    1.512628\n",
      "music       1.212568\n",
      "hair        1.090198\n",
      "dance       0.868310\n",
      "mall        0.694227\n",
      "cute        0.693325\n",
      "swimming    0.657547\n",
      "god         0.496993\n",
      "dtype: float64\n",
      "______________________\n",
      "Cluster: 5\n",
      "Number of students: 859\n",
      "Popular key words:\n",
      "basketball    1.920838\n",
      "softball      1.572759\n",
      "baseball      1.570431\n",
      "hair          1.125728\n",
      "music         1.094296\n",
      "cute          0.831199\n",
      "rock          0.802095\n",
      "dance         0.742724\n",
      "dtype: float64\n",
      "______________________\n",
      "Cluster: 6\n",
      "Number of students: 28\n",
      "Popular key words:\n",
      "blonde    13.285714\n",
      "sex       12.178571\n",
      "hair      11.071429\n",
      "music      7.178571\n",
      "kissed     4.714286\n",
      "die        3.035714\n",
      "rock       2.857143\n",
      "sports     2.678571\n",
      "dtype: float64\n",
      "______________________\n",
      "Cluster: 7\n",
      "Number of students: 630\n",
      "Popular key words:\n",
      "football      3.501587\n",
      "basketball    0.761905\n",
      "music         0.750794\n",
      "dance         0.657143\n",
      "hair          0.474603\n",
      "sports        0.444444\n",
      "god           0.433333\n",
      "soccer        0.426984\n",
      "dtype: float64\n",
      "______________________\n",
      "Cluster: 8\n",
      "Number of students: 402\n",
      "Popular key words:\n",
      "volleyball    4.395522\n",
      "music         0.761194\n",
      "basketball    0.716418\n",
      "shopping      0.646766\n",
      "hair          0.597015\n",
      "softball      0.582090\n",
      "god           0.529851\n",
      "dance         0.522388\n",
      "dtype: float64\n",
      "______________________\n",
      "Cluster: 9\n",
      "Number of students: 2278\n",
      "Popular key words:\n",
      "death    1.239245\n",
      "music    1.216418\n",
      "god      0.708516\n",
      "hair     0.694908\n",
      "die      0.584284\n",
      "dance    0.549166\n",
      "sex      0.479368\n",
      "rock     0.435470\n",
      "dtype: float64\n",
      "______________________\n"
     ]
    }
   ],
   "source": [
    "## MyKMeans++\n",
    "print_cluster_info(df_sns, df_sns_scaled, MyKmeans(k=9, init='k-means'))"
   ]
  },
  {
   "cell_type": "markdown",
   "metadata": {},
   "source": [
    "Описание кластеров:\n",
    "1. Немного религиозные люди\n",
    "2. Люди, увлекаюшщиеся музыкрй\n",
    "3. Большой кластер, сложно интерпертируется\n",
    "4. Шоппинг, музыка, полагаю, что это девушки\n",
    "5. Ярко выраженнные спортсмены\n",
    "6. Очень маленький кластер, полагаю, что девушки\n",
    "7. Спортсмены\n",
    "8. Спортсмены\n",
    "9. Религиозные любители музыки"
   ]
  },
  {
   "cell_type": "code",
   "execution_count": 23,
   "metadata": {
    "scrolled": false
   },
   "outputs": [
    {
     "name": "stdout",
     "output_type": "stream",
     "text": [
      "Cluster: 1\n",
      "Number of students: 1385\n",
      "Popular key words:\n",
      "god         2.878700\n",
      "church      2.555235\n",
      "music       1.061372\n",
      "jesus       0.967509\n",
      "dance       0.951625\n",
      "hair        0.477256\n",
      "band        0.464982\n",
      "shopping    0.462816\n",
      "dtype: float64\n",
      "______________________\n",
      "Cluster: 2\n",
      "Number of students: 645\n",
      "Popular key words:\n",
      "drunk     2.037209\n",
      "hair      1.699225\n",
      "sex       1.035659\n",
      "music     1.026357\n",
      "blonde    0.750388\n",
      "god       0.703876\n",
      "dance     0.675969\n",
      "drugs     0.669767\n",
      "dtype: float64\n",
      "______________________\n",
      "Cluster: 3\n",
      "Number of students: 3951\n",
      "Popular key words:\n",
      "cute        1.354594\n",
      "dance       1.050620\n",
      "music       0.809922\n",
      "hair        0.492027\n",
      "shopping    0.465705\n",
      "god         0.394584\n",
      "mall        0.312073\n",
      "sexy        0.309795\n",
      "dtype: float64\n",
      "______________________\n",
      "Cluster: 4\n",
      "Number of students: 1595\n",
      "Popular key words:\n",
      "dress       1.505956\n",
      "dance       0.769279\n",
      "music       0.763636\n",
      "hair        0.540439\n",
      "shopping    0.535423\n",
      "god         0.457053\n",
      "cute        0.388715\n",
      "band        0.381191\n",
      "dtype: float64\n",
      "______________________\n",
      "Cluster: 5\n",
      "Number of students: 1230\n",
      "Popular key words:\n",
      "hair          2.511382\n",
      "music         2.002439\n",
      "sex           1.753659\n",
      "kissed        1.424390\n",
      "mall          1.414634\n",
      "basketball    1.161789\n",
      "dance         0.871545\n",
      "cute          0.851220\n",
      "dtype: float64\n",
      "______________________\n",
      "Cluster: 6\n",
      "Number of students: 1635\n",
      "Popular key words:\n",
      "rock          1.748624\n",
      "football      1.498471\n",
      "music         1.478899\n",
      "band          0.724771\n",
      "hair          0.606116\n",
      "basketball    0.581040\n",
      "baseball      0.580428\n",
      "god           0.511927\n",
      "dtype: float64\n",
      "______________________\n",
      "Cluster: 7\n",
      "Number of students: 17703\n",
      "Popular key words:\n",
      "music         0.524939\n",
      "god           0.262950\n",
      "band          0.214992\n",
      "shopping      0.181834\n",
      "soccer        0.173530\n",
      "basketball    0.166695\n",
      "hair          0.166356\n",
      "dance         0.155341\n",
      "dtype: float64\n",
      "______________________\n",
      "Cluster: 8\n",
      "Number of students: 763\n",
      "Popular key words:\n",
      "abercrombie    1.297510\n",
      "hollister      0.753604\n",
      "music          0.622543\n",
      "shopping       0.596330\n",
      "dance          0.528178\n",
      "hair           0.463958\n",
      "cute           0.356488\n",
      "god            0.355177\n",
      "dtype: float64\n",
      "______________________\n",
      "Cluster: 9\n",
      "Number of students: 1093\n",
      "Popular key words:\n",
      "volleyball    2.075023\n",
      "shopping      1.844465\n",
      "music         0.856359\n",
      "basketball    0.682525\n",
      "hair          0.672461\n",
      "softball      0.578225\n",
      "dance         0.547118\n",
      "mall          0.521500\n",
      "dtype: float64\n",
      "______________________\n"
     ]
    }
   ],
   "source": [
    "## MyKMeans с MiniBatchMyKMeans\n",
    "print_cluster_info(df_sns, df_sns_scaled, MiniBatchKMeans(k=9))"
   ]
  },
  {
   "cell_type": "markdown",
   "metadata": {},
   "source": [
    "Описание кластеров:\n",
    "1. Очень религиозные люди\n",
    "2. Тусовщики\n",
    "3. Девушки\n",
    "4. Похож на прошлый кластер\n",
    "5. Похоже на темы всяких журналов для подростков\n",
    "6. Рок музыка и немного спорта\n",
    "7. Снова большой непонятный кластер\n",
    "8. Люди, людят хорошо одеться\n",
    "9. Спортсмены\n",
    "\n",
    "Мне не очень понравилось разбиение этим методом"
   ]
  },
  {
   "cell_type": "code",
   "execution_count": 24,
   "metadata": {
    "scrolled": false
   },
   "outputs": [
    {
     "name": "stdout",
     "output_type": "stream",
     "text": [
      "Cluster: 1\n",
      "Number of students: 2868\n",
      "Popular key words:\n",
      "music         1.264644\n",
      "church        1.106346\n",
      "god           0.894351\n",
      "sports        0.877615\n",
      "soccer        0.503835\n",
      "basketball    0.475941\n",
      "dance         0.472803\n",
      "hair          0.466527\n",
      "dtype: float64\n",
      "______________________\n",
      "Cluster: 2\n",
      "Number of students: 2391\n",
      "Popular key words:\n",
      "sexy        1.398996\n",
      "music       0.697198\n",
      "cute        0.501464\n",
      "dance       0.481807\n",
      "hair        0.436219\n",
      "god         0.388122\n",
      "shopping    0.349226\n",
      "mall        0.294019\n",
      "dtype: float64\n",
      "______________________\n",
      "Cluster: 3\n",
      "Number of students: 320\n",
      "Popular key words:\n",
      "band        5.968750\n",
      "marching    2.131250\n",
      "music       1.493750\n",
      "god         0.625000\n",
      "dance       0.534375\n",
      "hair        0.421875\n",
      "shopping    0.371875\n",
      "rock        0.356250\n",
      "dtype: float64\n",
      "______________________\n",
      "Cluster: 4\n",
      "Number of students: 105\n",
      "Popular key words:\n",
      "die         5.742857\n",
      "music       1.409524\n",
      "swimming    1.352381\n",
      "god         1.333333\n",
      "death       1.238095\n",
      "hair        1.190476\n",
      "dance       0.895238\n",
      "sex         0.819048\n",
      "dtype: float64\n",
      "______________________\n",
      "Cluster: 5\n",
      "Number of students: 20933\n",
      "Popular key words:\n",
      "music       0.552764\n",
      "dance       0.311518\n",
      "god         0.308842\n",
      "shopping    0.276358\n",
      "cute        0.229303\n",
      "hair        0.224335\n",
      "band        0.188650\n",
      "mall        0.182869\n",
      "dtype: float64\n",
      "______________________\n",
      "Cluster: 6\n",
      "Number of students: 884\n",
      "Popular key words:\n",
      "baseball      2.149321\n",
      "football      1.604072\n",
      "music         0.854072\n",
      "basketball    0.835973\n",
      "rock          0.571267\n",
      "mall          0.503394\n",
      "hair          0.502262\n",
      "cute          0.467195\n",
      "dtype: float64\n",
      "______________________\n",
      "Cluster: 7\n",
      "Number of students: 1245\n",
      "Popular key words:\n",
      "hair       3.162249\n",
      "music      2.166265\n",
      "sex        2.122892\n",
      "kissed     1.454618\n",
      "dance      1.316466\n",
      "rock       1.031325\n",
      "clothes    1.012851\n",
      "cute       0.918072\n",
      "dtype: float64\n",
      "______________________\n",
      "Cluster: 8\n",
      "Number of students: 1075\n",
      "Popular key words:\n",
      "god           1.920930\n",
      "football      1.373953\n",
      "dance         1.302326\n",
      "basketball    1.213023\n",
      "shopping      1.160000\n",
      "jesus         1.131163\n",
      "music         0.963721\n",
      "cute          0.800000\n",
      "dtype: float64\n",
      "______________________\n",
      "Cluster: 9\n",
      "Number of students: 179\n",
      "Popular key words:\n",
      "volleyball    5.659218\n",
      "blonde        2.089385\n",
      "basketball    0.905028\n",
      "music         0.871508\n",
      "hair          0.860335\n",
      "softball      0.782123\n",
      "shopping      0.737430\n",
      "god           0.642458\n",
      "dtype: float64\n",
      "______________________\n"
     ]
    }
   ],
   "source": [
    "## MyKMeans++ с MiniBatchMyKMeans\n",
    "print_cluster_info(df_sns, df_sns_scaled, MiniBatchKMeans(k=9, init='k-means'))"
   ]
  },
  {
   "cell_type": "markdown",
   "metadata": {},
   "source": [
    "Описание кластеров:\n",
    "1. Религиозные люди, которые также любят послушать музыку\n",
    "2. Девушки\n",
    "3. Музыканты\n",
    "4. Маленький кластер, депрессиваня или религиозная музыка ???\n",
    "5. Снова большой непонятный кластер\n",
    "6. Спортсмены\n",
    "7. Похоже на темы всяких журналов для подростков\n",
    "8. Религиозные спортсмены\n",
    "9. Девушки спортсмены ???"
   ]
  },
  {
   "cell_type": "markdown",
   "metadata": {},
   "source": [
    "## Вывод\n",
    "Пытаясь проинтерперетировать образовавшиеся кластеры, я заметил, что кластеры, разбитые алгоритмами с minibatch, \n",
    "интерпретировать сложнее. Исходя из этого я могу составить свою субъективную оценку работы алгоритмов:\n",
    "    1. K-means++. Могу подметить, что при анализе результатов K-means++ встречались кластеры, которые так и напрашивались \n",
    "    на то, чтобы объединить их в один (кластеры спортсменов), а также там был один очень маленький непонятный кластер. \n",
    "    Но интерпретация, как мне показалось, была более однозначна, чем в обычном K-means, поэтому улучшенный метод на первом месте.\n",
    "    2. K-means. В целом, результаты мне понравились.\n",
    "    3. MiniBatch K-means и MiniBatch K-means++. Не буду говорить, какой из них хуже (тем более, что это слишком субъективно).\n",
    "    На мой взгляд они показали результат качеством ниже, чем прошлые 2 алгоритма."
   ]
  },
  {
   "cell_type": "code",
   "execution_count": null,
   "metadata": {},
   "outputs": [],
   "source": []
  }
 ],
 "metadata": {
  "anaconda-cloud": {},
  "kernelspec": {
   "display_name": "Python 3",
   "language": "python",
   "name": "python3"
  },
  "language_info": {
   "codemirror_mode": {
    "name": "ipython",
    "version": 3
   },
   "file_extension": ".py",
   "mimetype": "text/x-python",
   "name": "python",
   "nbconvert_exporter": "python",
   "pygments_lexer": "ipython3",
   "version": "3.6.5"
  },
  "nav_menu": {},
  "toc": {
   "navigate_menu": true,
   "number_sections": false,
   "sideBar": true,
   "threshold": 6,
   "toc_cell": false,
   "toc_section_display": "block",
   "toc_window_display": true
  }
 },
 "nbformat": 4,
 "nbformat_minor": 2
}
