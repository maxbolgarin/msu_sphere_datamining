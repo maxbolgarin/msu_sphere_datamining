{
 "cells": [
  {
   "cell_type": "markdown",
   "metadata": {},
   "source": [
    "**Общая информация**\n",
    "\n",
    "**Срок сдачи:** 18 октября 2017, 06:00 <br\\>\n",
    "**Штраф за опоздание:** -2 балла после 06:00 18 октября, -4 балла после 06:00 25 октября, -6 баллов после 06:00 1 ноября\n",
    "\n",
    "При отправлении ДЗ указывайте фамилию в названии файла\n",
    "Присылать ДЗ необходимо в виде ссылки на свой github репозиторий в slack @alkhamush\n",
    "\n",
    "Необходимо в slack создать таск в приватный чат:\n",
    "/todo Фамилия Имя ссылка на гитхаб @alkhamush\n",
    "Пример:\n",
    "/todo Ксения Стройкова https://github.com/stroykova/spheremailru/stroykova_hw1.ipynb @alkhamush\n",
    "Дополнительно нужно просто скинуть ссылку в slack в личный чат\n",
    "\n",
    "Используйте данный Ipython Notebook при оформлении домашнего задания."
   ]
  },
  {
   "cell_type": "markdown",
   "metadata": {},
   "source": [
    "###### Задание 1 (2 баллов)\n",
    "Реализовать KNN в классе MyKNeighborsClassifier (обязательное условие: точность не ниже sklearn реализации)\n",
    "Разберитесь самостоятельно, какая мера расстояния используется в KNeighborsClassifier дефолтно и реализуйте свой алгоритм именно с этой мерой. Самостоятельно разберитесь, как считается score из KNeighborsClassifier и реализуйте аналог в своём классе. Score не должен уступать значению KNN из sklearn\n",
    "\n",
    "###### Задание 2 (2 балла)\n",
    "Добиться скорости работы на fit,  predict и predict_proba сравнимой со sklearn для iris и mnist\n",
    "Для этого используем numpy\n",
    "\n",
    "###### Задание 3 (2 балла)\n",
    "Для iris найдите такой параметр n_neighbors, при котором выдаётся наилучший score. Нарисуйте график зависимости score от n_neighbors\n",
    "\n",
    "###### Задание 3 (3 балла)\n",
    "Добавить algorithm='kd_tree' в реализацию KNN (использовать KDTree из sklearn.neighbors). Значение n_neighbors нужно взять из задания 3. Добиться скорости работы на fit,  predict и predict_proba сравнимой со sklearn для iris и mnist\n",
    "Для этого используем numpy. Score не должен уступать значению KNN из sklearn\n",
    "\n",
    "###### Задание 5 (1 балла)\n",
    "Описать для чего нужны следующие библиотеки/классы/функции (список будет ниже)\n",
    "\n",
    "**Штрафные баллы:**\n",
    "\n",
    "1. Невыполнение PEP8 -1 балл\n",
    "2. Отсутствие фамилии в имени скрипта (скрипт должен называться по аналогии со stroykova_hw1.ipynb) -1 балл\n",
    "3. Все строчки должны быть выполнены. Нужно, чтобы output команды можно было увидеть уже в git'е. В противном случае -1 балл\n",
    "4. При оформлении ДЗ нужно пользоваться данным файлом в качестве шаблона. Не нужно удалять и видоизменять структуру кода и текст. В противном случае -1 балл\n"
   ]
  },
  {
   "cell_type": "code",
   "execution_count": 1,
   "metadata": {},
   "outputs": [],
   "source": [
    "import numpy as np\n",
    "import pandas as pd\n",
    "import matplotlib.pyplot as plt\n",
    "\n",
    "import sklearn\n",
    "import seaborn as sns\n",
    "from sklearn import datasets\n",
    "from sklearn.base import ClassifierMixin\n",
    "from sklearn.datasets import fetch_mldata\n",
    "from sklearn.neighbors.base import NeighborsBase, KNeighborsMixin, SupervisedIntegerMixin \n",
    "from sklearn.model_selection import train_test_split\n",
    "from sklearn.neighbors import KNeighborsClassifier, KDTree\n",
    "%load_ext pycodestyle_magic"
   ]
  },
  {
   "cell_type": "code",
   "execution_count": 2,
   "metadata": {},
   "outputs": [],
   "source": [
    "#%%pycodestyle\n",
    "\n",
    "\n",
    "class MyKNeighborsClassifier(NeighborsBase, KNeighborsMixin,\n",
    "                             SupervisedIntegerMixin, ClassifierMixin):\n",
    "\n",
    "    def __init__(self, n_neighbors, algorithm='brute'):\n",
    "        self.n_neighbors = n_neighbors\n",
    "        self.algorithm = algorithm\n",
    "\n",
    "    def fit(self, X, y):\n",
    "        self._fit_X = np.array(X).astype(float)\n",
    "        self._fit_X_norm_squared = (self._fit_X**2).sum(axis=1).reshape(1, -1)\n",
    "\n",
    "        self._fit_Y = np.array(y).astype(int)\n",
    "        self._classes = np.unique(self._fit_Y)\n",
    "\n",
    "        if self.algorithm is 'kd_tree':\n",
    "            self._kd_tree = KDTree(self._fit_X)\n",
    "\n",
    "    def _get_distance(self, test_X):\n",
    "        \"\"\"\n",
    "            The square of the distance in Euclidean space:\n",
    "            d^2 = sum of i from 1 to N: (x1[i] - x2[i])^2\n",
    "            After some transformations we obtain:\n",
    "            d^2 = ||x1||^2 + ||x2||^2 - 2*(x1, x2)\n",
    "        \"\"\"\n",
    "\n",
    "        test_X_norm_squared = (test_X**2).sum(axis=1).reshape(-1, 1)\n",
    "        return np.sqrt(\n",
    "            test_X_norm_squared\n",
    "            + self._fit_X_norm_squared\n",
    "            - 2*np.dot(test_X, self._fit_X.T)\n",
    "        )\n",
    "\n",
    "    def predict(self, X):\n",
    "        nearest = np.array([])\n",
    "        if self.algorithm is 'kd_tree':\n",
    "            _, nearest_index = self._kd_tree.query(\n",
    "                np.array(X).astype(float),\n",
    "                k=self.n_neighbors\n",
    "            )\n",
    "            nearest = self._fit_Y[nearest_index]\n",
    "\n",
    "        else:\n",
    "            distance = self._get_distance(np.array(X).astype(float))\n",
    "            nearest = self._fit_Y[np.argsort(distance)[:, :self.n_neighbors]]\n",
    "\n",
    "        return np.apply_along_axis(\n",
    "            lambda n: np.bincount(n).argmax(),\n",
    "            axis=1,\n",
    "            arr=nearest\n",
    "        )\n",
    "\n",
    "    def predict_proba(self, X):\n",
    "        X = np.array(X).astype(float)\n",
    "        test_size = X.shape[0]\n",
    "\n",
    "        nearest_index = np.array([])\n",
    "        prediction = np.zeros((test_size, self._classes.shape[0]))\n",
    "\n",
    "        if self.algorithm is 'kd_tree':\n",
    "            _, nearest_index = self._kd_tree.query(\n",
    "                X,\n",
    "                k=self.n_neighbors\n",
    "            )\n",
    "\n",
    "        else:\n",
    "            distance = self._get_distance(X)\n",
    "            nearest_index = np.argsort(distance)[:, :self.n_neighbors]\n",
    "\n",
    "        for i in range(test_size):\n",
    "            for j in nearest_index[i]:\n",
    "                prediction[i][self._fit_Y[j]] += 1\n",
    "\n",
    "        return prediction / self.n_neighbors\n",
    "\n",
    "    def score(self, X, y):\n",
    "        return np.average(self.predict(X) == y)"
   ]
  },
  {
   "cell_type": "markdown",
   "metadata": {},
   "source": [
    "**IRIS**"
   ]
  },
  {
   "cell_type": "code",
   "execution_count": 3,
   "metadata": {},
   "outputs": [],
   "source": [
    "iris = datasets.load_iris()"
   ]
  },
  {
   "cell_type": "code",
   "execution_count": 4,
   "metadata": {},
   "outputs": [],
   "source": [
    "X_train, X_test, y_train, y_test = train_test_split(iris.data, iris.target, test_size=0.1, stratify=iris.target)"
   ]
  },
  {
   "cell_type": "code",
   "execution_count": 5,
   "metadata": {},
   "outputs": [],
   "source": [
    "clf = KNeighborsClassifier(n_neighbors=2)\n",
    "my_clf = MyKNeighborsClassifier(n_neighbors=2)"
   ]
  },
  {
   "cell_type": "code",
   "execution_count": 6,
   "metadata": {},
   "outputs": [
    {
     "name": "stdout",
     "output_type": "stream",
     "text": [
      "Wall time: 496 µs\n"
     ]
    },
    {
     "data": {
      "text/plain": [
       "KNeighborsClassifier(algorithm='auto', leaf_size=30, metric='minkowski',\n",
       "           metric_params=None, n_jobs=1, n_neighbors=2, p=2,\n",
       "           weights='uniform')"
      ]
     },
     "execution_count": 6,
     "metadata": {},
     "output_type": "execute_result"
    }
   ],
   "source": [
    "%time clf.fit(X_train, y_train)"
   ]
  },
  {
   "cell_type": "code",
   "execution_count": 7,
   "metadata": {},
   "outputs": [
    {
     "name": "stdout",
     "output_type": "stream",
     "text": [
      "Wall time: 512 µs\n"
     ]
    }
   ],
   "source": [
    "%time my_clf.fit(X_train, y_train)"
   ]
  },
  {
   "cell_type": "code",
   "execution_count": 8,
   "metadata": {},
   "outputs": [
    {
     "name": "stdout",
     "output_type": "stream",
     "text": [
      "Wall time: 496 µs\n"
     ]
    },
    {
     "data": {
      "text/plain": [
       "array([2, 2, 2, 0, 2, 0, 1, 1, 0, 1, 0, 0, 1, 1, 1])"
      ]
     },
     "execution_count": 8,
     "metadata": {},
     "output_type": "execute_result"
    }
   ],
   "source": [
    "%time clf.predict(X_test)"
   ]
  },
  {
   "cell_type": "code",
   "execution_count": 10,
   "metadata": {},
   "outputs": [
    {
     "name": "stdout",
     "output_type": "stream",
     "text": [
      "Wall time: 496 µs\n"
     ]
    },
    {
     "data": {
      "text/plain": [
       "array([2, 2, 2, 0, 2, 0, 1, 1, 0, 1, 0, 0, 1, 1, 1], dtype=int64)"
      ]
     },
     "execution_count": 10,
     "metadata": {},
     "output_type": "execute_result"
    }
   ],
   "source": [
    "%time my_clf.predict(X_test)"
   ]
  },
  {
   "cell_type": "code",
   "execution_count": 11,
   "metadata": {},
   "outputs": [
    {
     "name": "stdout",
     "output_type": "stream",
     "text": [
      "Wall time: 496 µs\n"
     ]
    },
    {
     "data": {
      "text/plain": [
       "array([[0., 0., 1.],\n",
       "       [0., 0., 1.],\n",
       "       [0., 0., 1.],\n",
       "       [1., 0., 0.],\n",
       "       [0., 0., 1.],\n",
       "       [1., 0., 0.],\n",
       "       [0., 1., 0.],\n",
       "       [0., 1., 0.],\n",
       "       [1., 0., 0.],\n",
       "       [0., 1., 0.],\n",
       "       [1., 0., 0.],\n",
       "       [1., 0., 0.],\n",
       "       [0., 1., 0.],\n",
       "       [0., 1., 0.],\n",
       "       [0., 1., 0.]])"
      ]
     },
     "execution_count": 11,
     "metadata": {},
     "output_type": "execute_result"
    }
   ],
   "source": [
    "%time clf.predict_proba(X_test)"
   ]
  },
  {
   "cell_type": "code",
   "execution_count": 14,
   "metadata": {},
   "outputs": [
    {
     "name": "stdout",
     "output_type": "stream",
     "text": [
      "Wall time: 496 µs\n"
     ]
    },
    {
     "data": {
      "text/plain": [
       "array([[0., 0., 1.],\n",
       "       [0., 0., 1.],\n",
       "       [0., 0., 1.],\n",
       "       [1., 0., 0.],\n",
       "       [0., 0., 1.],\n",
       "       [1., 0., 0.],\n",
       "       [0., 1., 0.],\n",
       "       [0., 1., 0.],\n",
       "       [1., 0., 0.],\n",
       "       [0., 1., 0.],\n",
       "       [1., 0., 0.],\n",
       "       [1., 0., 0.],\n",
       "       [0., 1., 0.],\n",
       "       [0., 1., 0.],\n",
       "       [0., 1., 0.]])"
      ]
     },
     "execution_count": 14,
     "metadata": {},
     "output_type": "execute_result"
    }
   ],
   "source": [
    "%time my_clf.predict_proba(X_test)"
   ]
  },
  {
   "cell_type": "code",
   "execution_count": 15,
   "metadata": {},
   "outputs": [
    {
     "data": {
      "text/plain": [
       "0.9333333333333333"
      ]
     },
     "execution_count": 15,
     "metadata": {},
     "output_type": "execute_result"
    }
   ],
   "source": [
    "clf.score(X_test, y_test)"
   ]
  },
  {
   "cell_type": "code",
   "execution_count": 16,
   "metadata": {},
   "outputs": [
    {
     "data": {
      "text/plain": [
       "0.9333333333333333"
      ]
     },
     "execution_count": 16,
     "metadata": {},
     "output_type": "execute_result"
    }
   ],
   "source": [
    "my_clf.score(X_test, y_test)"
   ]
  },
  {
   "cell_type": "code",
   "execution_count": 17,
   "metadata": {},
   "outputs": [
    {
     "name": "stderr",
     "output_type": "stream",
     "text": [
      "C:\\Users\\Overdrive\\Anaconda3\\lib\\site-packages\\ipykernel_launcher.py:33: RuntimeWarning: invalid value encountered in sqrt\n"
     ]
    },
    {
     "name": "stdout",
     "output_type": "stream",
     "text": [
      "Best score is achieved with 15 neighbors\n"
     ]
    },
    {
     "data": {
      "image/png": "[encoded data removed]",
      "text/plain": [
       "<Figure size 432x288 with 1 Axes>"
      ]
     },
     "metadata": {},
     "output_type": "display_data"
    }
   ],
   "source": [
    "#%%pycodestyle\n",
    "\n",
    "# Задание 3\n",
    "# Для iris найдите такой параметр n_neighbors,\n",
    "# при котором выдаётся наилучший score.\n",
    "# Нарисуйте график зависимости score от n_neighbors\n",
    "\n",
    "\n",
    "MAX_NEIGHBORS = 30\n",
    "NUMBER_OF_TESTS = 300\n",
    "\n",
    "scores = np.array([])\n",
    "for k in range(1, MAX_NEIGHBORS):\n",
    "    k_score = 0\n",
    "    for n in range(NUMBER_OF_TESTS):\n",
    "        X_train, X_test, y_train, y_test = train_test_split(\n",
    "            iris.data, iris.target,\n",
    "            test_size=0.1, stratify=iris.target\n",
    "        )\n",
    "        my_clf = MyKNeighborsClassifier(n_neighbors=k)\n",
    "        my_clf.fit(X_train, y_train)\n",
    "        k_score += my_clf.score(X_test, y_test)\n",
    "    scores = np.append(scores, k_score / NUMBER_OF_TESTS)\n",
    "\n",
    "best_n_neighbors = np.argmax(scores) + 1\n",
    "print(\"Best score is achieved with %d neighbors\" % best_n_neighbors)\n",
    "plt.plot(range(1, MAX_NEIGHBORS), scores)\n",
    "plt.xlabel(\"Number of neighbors\")\n",
    "plt.ylabel(\"Score\")\n",
    "plt.show()"
   ]
  },
  {
   "cell_type": "markdown",
   "metadata": {},
   "source": [
    "**MNIST**"
   ]
  },
  {
   "cell_type": "code",
   "execution_count": 18,
   "metadata": {},
   "outputs": [],
   "source": [
    "mnist = fetch_mldata('MNIST original')"
   ]
  },
  {
   "cell_type": "code",
   "execution_count": 19,
   "metadata": {},
   "outputs": [],
   "source": [
    "X_train, X_test, y_train, y_test = train_test_split(mnist.data, mnist.target, test_size=0.01, stratify=mnist.target)"
   ]
  },
  {
   "cell_type": "code",
   "execution_count": 20,
   "metadata": {},
   "outputs": [],
   "source": [
    "clf = KNeighborsClassifier(n_neighbors=2)\n",
    "my_clf = MyKNeighborsClassifier(n_neighbors=2)"
   ]
  },
  {
   "cell_type": "code",
   "execution_count": 21,
   "metadata": {},
   "outputs": [
    {
     "name": "stdout",
     "output_type": "stream",
     "text": [
      "Wall time: 20.4 s\n"
     ]
    },
    {
     "data": {
      "text/plain": [
       "KNeighborsClassifier(algorithm='auto', leaf_size=30, metric='minkowski',\n",
       "           metric_params=None, n_jobs=1, n_neighbors=2, p=2,\n",
       "           weights='uniform')"
      ]
     },
     "execution_count": 21,
     "metadata": {},
     "output_type": "execute_result"
    }
   ],
   "source": [
    "%time clf.fit(X_train, y_train)"
   ]
  },
  {
   "cell_type": "code",
   "execution_count": 22,
   "metadata": {},
   "outputs": [
    {
     "name": "stdout",
     "output_type": "stream",
     "text": [
      "Wall time: 361 ms\n"
     ]
    }
   ],
   "source": [
    "%time my_clf.fit(X_train, y_train)"
   ]
  },
  {
   "cell_type": "code",
   "execution_count": 23,
   "metadata": {},
   "outputs": [
    {
     "name": "stdout",
     "output_type": "stream",
     "text": [
      "Wall time: 1min\n"
     ]
    },
    {
     "data": {
      "text/plain": [
       "array([7., 7., 5., 5., 3., 4., 0., 2., 5., 4., 9., 4., 8., 2., 3., 8., 2.,\n",
       "       2., 7., 3., 5., 1., 4., 3., 2., 8., 1., 5., 2., 8., 9., 2., 1., 9.,\n",
       "       1., 9., 5., 1., 0., 1., 7., 3., 9., 9., 6., 1., 5., 7., 6., 8., 1.,\n",
       "       0., 0., 0., 5., 2., 0., 5., 4., 8., 1., 1., 6., 3., 5., 2., 8., 3.,\n",
       "       5., 0., 2., 2., 9., 8., 8., 1., 0., 2., 7., 1., 0., 6., 0., 0., 5.,\n",
       "       0., 4., 4., 7., 7., 1., 0., 4., 0., 3., 1., 5., 1., 2., 8., 0., 6.,\n",
       "       9., 5., 0., 9., 2., 5., 8., 7., 9., 6., 6., 6., 6., 5., 4., 4., 3.,\n",
       "       7., 0., 6., 6., 6., 8., 2., 2., 3., 5., 2., 4., 5., 2., 5., 9., 7.,\n",
       "       3., 1., 0., 3., 7., 1., 6., 5., 9., 7., 5., 7., 9., 4., 1., 3., 1.,\n",
       "       2., 4., 0., 9., 8., 5., 1., 0., 0., 7., 2., 7., 2., 1., 4., 0., 4.,\n",
       "       6., 8., 1., 6., 2., 1., 4., 2., 9., 5., 8., 0., 6., 8., 5., 3., 2.,\n",
       "       4., 6., 0., 1., 1., 1., 2., 9., 6., 5., 7., 6., 1., 8., 2., 2., 6.,\n",
       "       1., 6., 1., 3., 7., 2., 6., 7., 0., 9., 2., 4., 5., 2., 8., 4., 4.,\n",
       "       9., 2., 9., 3., 5., 6., 3., 2., 8., 3., 2., 5., 2., 7., 7., 5., 2.,\n",
       "       3., 7., 4., 7., 1., 3., 8., 5., 6., 3., 2., 9., 6., 9., 4., 3., 7.,\n",
       "       6., 2., 1., 5., 2., 4., 3., 0., 2., 9., 5., 0., 5., 3., 0., 5., 6.,\n",
       "       0., 3., 7., 1., 1., 3., 0., 7., 7., 5., 3., 6., 1., 5., 1., 5., 4.,\n",
       "       5., 1., 4., 6., 8., 2., 2., 5., 8., 8., 2., 9., 4., 8., 0., 3., 3.,\n",
       "       3., 7., 0., 9., 5., 0., 7., 0., 8., 2., 9., 9., 9., 9., 9., 4., 3.,\n",
       "       7., 8., 8., 7., 4., 3., 9., 4., 0., 9., 7., 3., 3., 7., 4., 3., 7.,\n",
       "       9., 0., 7., 0., 4., 6., 7., 3., 9., 4., 7., 8., 3., 9., 8., 1., 5.,\n",
       "       0., 9., 1., 7., 3., 5., 0., 8., 5., 2., 2., 4., 8., 7., 1., 9., 4.,\n",
       "       5., 2., 5., 8., 8., 5., 0., 3., 0., 1., 7., 8., 8., 7., 3., 8., 4.,\n",
       "       2., 7., 6., 3., 9., 7., 0., 4., 9., 7., 4., 6., 7., 5., 3., 1., 2.,\n",
       "       8., 1., 7., 7., 6., 1., 1., 6., 1., 3., 2., 9., 2., 7., 9., 5., 4.,\n",
       "       3., 4., 1., 6., 7., 8., 0., 3., 0., 4., 9., 9., 3., 8., 2., 1., 0.,\n",
       "       6., 8., 7., 8., 3., 6., 8., 6., 7., 0., 0., 2., 1., 6., 3., 8., 1.,\n",
       "       2., 5., 7., 6., 2., 3., 2., 0., 9., 6., 1., 8., 2., 7., 4., 2., 1.,\n",
       "       9., 4., 7., 3., 1., 2., 4., 7., 2., 4., 4., 4., 3., 7., 6., 6., 4.,\n",
       "       9., 0., 3., 6., 4., 8., 0., 3., 3., 6., 9., 8., 0., 6., 3., 3., 4.,\n",
       "       6., 6., 2., 9., 1., 0., 9., 9., 9., 2., 0., 6., 8., 1., 1., 9., 2.,\n",
       "       6., 8., 7., 0., 6., 7., 4., 8., 6., 3., 7., 6., 9., 6., 5., 9., 5.,\n",
       "       9., 1., 1., 3., 5., 7., 4., 2., 2., 2., 4., 0., 1., 5., 3., 5., 2.,\n",
       "       4., 1., 2., 0., 1., 9., 7., 8., 3., 9., 3., 3., 4., 1., 4., 4., 6.,\n",
       "       9., 4., 6., 0., 7., 1., 2., 9., 0., 9., 1., 8., 4., 4., 5., 8., 6.,\n",
       "       1., 1., 5., 2., 4., 9., 9., 7., 1., 0., 9., 0., 0., 7., 6., 1., 6.,\n",
       "       0., 2., 9., 0., 8., 2., 6., 1., 9., 6., 7., 6., 0., 1., 1., 7., 4.,\n",
       "       0., 3., 6., 9., 7., 1., 1., 9., 4., 9., 8., 8., 4., 1., 0., 3., 9.,\n",
       "       0., 8., 6., 9., 4., 8., 3., 2., 3., 7., 7., 3., 1., 0., 0., 2., 2.,\n",
       "       6., 5., 3., 7., 5., 3., 4., 0., 0., 5., 1., 1., 8., 8., 6., 1., 0.,\n",
       "       3., 1., 6., 6., 9., 5., 6., 3., 7., 1., 1., 1., 4., 9., 0., 1., 4.,\n",
       "       1., 8., 3.])"
      ]
     },
     "execution_count": 23,
     "metadata": {},
     "output_type": "execute_result"
    }
   ],
   "source": [
    "%time clf.predict(X_test)"
   ]
  },
  {
   "cell_type": "code",
   "execution_count": 24,
   "metadata": {},
   "outputs": [
    {
     "name": "stdout",
     "output_type": "stream",
     "text": [
      "Wall time: 4.74 s\n"
     ]
    },
    {
     "data": {
      "text/plain": [
       "array([7, 7, 5, 5, 3, 4, 0, 2, 5, 4, 9, 4, 8, 2, 3, 8, 2, 2, 7, 3, 5, 1,\n",
       "       4, 3, 2, 8, 1, 5, 2, 8, 9, 2, 1, 9, 1, 9, 5, 1, 0, 1, 7, 3, 9, 9,\n",
       "       6, 1, 5, 7, 6, 8, 1, 0, 0, 0, 5, 2, 0, 5, 4, 8, 1, 1, 6, 3, 5, 2,\n",
       "       8, 3, 5, 0, 2, 2, 9, 8, 8, 1, 0, 2, 7, 1, 0, 6, 0, 0, 5, 0, 4, 4,\n",
       "       7, 7, 1, 0, 4, 0, 3, 1, 5, 1, 2, 8, 0, 6, 9, 5, 0, 9, 2, 5, 8, 7,\n",
       "       9, 6, 6, 6, 6, 5, 4, 4, 3, 7, 0, 6, 6, 6, 8, 2, 2, 3, 5, 2, 4, 5,\n",
       "       2, 5, 9, 7, 3, 1, 0, 3, 7, 1, 6, 5, 9, 7, 5, 7, 9, 4, 1, 3, 1, 2,\n",
       "       4, 0, 9, 8, 5, 1, 0, 0, 7, 2, 7, 2, 1, 4, 0, 4, 6, 8, 1, 6, 2, 1,\n",
       "       4, 2, 9, 5, 8, 0, 6, 8, 5, 3, 2, 4, 6, 0, 1, 1, 1, 2, 9, 6, 5, 7,\n",
       "       6, 1, 8, 2, 2, 6, 1, 6, 1, 3, 7, 2, 6, 7, 0, 9, 2, 4, 5, 2, 8, 4,\n",
       "       4, 9, 2, 9, 3, 5, 6, 3, 2, 8, 3, 2, 5, 2, 7, 7, 5, 2, 3, 7, 4, 7,\n",
       "       1, 3, 8, 5, 6, 3, 2, 9, 6, 9, 4, 3, 7, 6, 2, 1, 5, 2, 4, 3, 0, 2,\n",
       "       9, 5, 0, 5, 3, 0, 5, 6, 0, 3, 7, 1, 1, 3, 0, 7, 7, 5, 3, 6, 1, 5,\n",
       "       1, 5, 4, 5, 1, 4, 6, 8, 2, 2, 5, 8, 8, 2, 9, 4, 8, 0, 3, 3, 3, 7,\n",
       "       0, 9, 5, 0, 7, 0, 8, 2, 9, 9, 9, 9, 9, 4, 3, 7, 8, 8, 7, 4, 3, 9,\n",
       "       4, 0, 9, 7, 3, 3, 7, 4, 3, 7, 9, 0, 7, 0, 4, 6, 7, 3, 9, 4, 7, 8,\n",
       "       3, 9, 8, 1, 5, 0, 9, 1, 7, 3, 5, 0, 8, 5, 2, 2, 4, 8, 7, 1, 9, 4,\n",
       "       5, 2, 5, 8, 8, 5, 0, 3, 0, 1, 7, 8, 8, 7, 3, 8, 4, 2, 7, 6, 3, 9,\n",
       "       7, 0, 4, 9, 7, 4, 6, 7, 5, 3, 1, 2, 8, 1, 7, 7, 6, 1, 1, 6, 1, 3,\n",
       "       2, 9, 2, 7, 9, 5, 4, 3, 4, 1, 6, 7, 8, 0, 3, 0, 4, 9, 9, 3, 8, 2,\n",
       "       1, 0, 6, 8, 7, 8, 3, 6, 8, 6, 7, 0, 0, 2, 1, 6, 3, 8, 1, 2, 5, 7,\n",
       "       6, 2, 3, 2, 0, 9, 6, 1, 8, 2, 7, 4, 2, 1, 9, 4, 7, 3, 1, 2, 4, 7,\n",
       "       2, 4, 4, 4, 3, 7, 6, 6, 4, 9, 0, 3, 6, 4, 8, 0, 3, 3, 6, 9, 8, 0,\n",
       "       6, 3, 3, 4, 6, 6, 2, 9, 1, 0, 9, 9, 9, 2, 0, 6, 8, 1, 1, 9, 2, 6,\n",
       "       8, 7, 0, 6, 7, 4, 8, 6, 3, 7, 6, 9, 6, 5, 9, 5, 9, 1, 1, 3, 5, 7,\n",
       "       4, 2, 2, 2, 4, 0, 1, 5, 3, 5, 2, 4, 1, 2, 0, 1, 9, 7, 8, 3, 9, 3,\n",
       "       3, 4, 1, 4, 4, 6, 9, 4, 6, 0, 7, 1, 2, 9, 0, 9, 1, 8, 4, 4, 5, 8,\n",
       "       6, 1, 1, 5, 2, 4, 9, 9, 7, 1, 0, 9, 0, 0, 7, 6, 1, 6, 0, 2, 9, 0,\n",
       "       8, 2, 6, 1, 9, 6, 7, 6, 0, 1, 1, 7, 4, 0, 3, 6, 9, 7, 1, 1, 9, 4,\n",
       "       9, 8, 8, 4, 1, 0, 3, 9, 0, 8, 6, 9, 4, 8, 3, 2, 3, 7, 7, 3, 1, 0,\n",
       "       0, 2, 2, 6, 5, 3, 7, 5, 3, 4, 0, 0, 5, 1, 1, 8, 8, 6, 1, 0, 3, 1,\n",
       "       6, 6, 9, 5, 6, 3, 7, 1, 1, 1, 4, 9, 0, 1, 4, 1, 8, 3], dtype=int64)"
      ]
     },
     "execution_count": 24,
     "metadata": {},
     "output_type": "execute_result"
    }
   ],
   "source": [
    "%time my_clf.predict(X_test)"
   ]
  },
  {
   "cell_type": "code",
   "execution_count": 25,
   "metadata": {},
   "outputs": [
    {
     "name": "stdout",
     "output_type": "stream",
     "text": [
      "Wall time: 1min\n"
     ]
    },
    {
     "data": {
      "text/plain": [
       "array([[0., 0., 0., ..., 1., 0., 0.],\n",
       "       [0., 0., 0., ..., 1., 0., 0.],\n",
       "       [0., 0., 0., ..., 0., 0., 0.],\n",
       "       ...,\n",
       "       [0., 1., 0., ..., 0., 0., 0.],\n",
       "       [0., 0., 0., ..., 0., 1., 0.],\n",
       "       [0., 0., 0., ..., 0., 0., 0.]])"
      ]
     },
     "execution_count": 25,
     "metadata": {},
     "output_type": "execute_result"
    }
   ],
   "source": [
    "%time clf.predict_proba(X_test)"
   ]
  },
  {
   "cell_type": "code",
   "execution_count": 26,
   "metadata": {},
   "outputs": [
    {
     "name": "stdout",
     "output_type": "stream",
     "text": [
      "Wall time: 4.65 s\n"
     ]
    },
    {
     "data": {
      "text/plain": [
       "array([[0., 0., 0., ..., 1., 0., 0.],\n",
       "       [0., 0., 0., ..., 1., 0., 0.],\n",
       "       [0., 0., 0., ..., 0., 0., 0.],\n",
       "       ...,\n",
       "       [0., 1., 0., ..., 0., 0., 0.],\n",
       "       [0., 0., 0., ..., 0., 1., 0.],\n",
       "       [0., 0., 0., ..., 0., 0., 0.]])"
      ]
     },
     "execution_count": 26,
     "metadata": {},
     "output_type": "execute_result"
    }
   ],
   "source": [
    "%time my_clf.predict_proba(X_test)"
   ]
  },
  {
   "cell_type": "code",
   "execution_count": 27,
   "metadata": {},
   "outputs": [
    {
     "data": {
      "text/plain": [
       "0.9614285714285714"
      ]
     },
     "execution_count": 27,
     "metadata": {},
     "output_type": "execute_result"
    }
   ],
   "source": [
    "clf.score(X_test, y_test)"
   ]
  },
  {
   "cell_type": "code",
   "execution_count": 28,
   "metadata": {},
   "outputs": [
    {
     "data": {
      "text/plain": [
       "0.9614285714285714"
      ]
     },
     "execution_count": 28,
     "metadata": {},
     "output_type": "execute_result"
    }
   ],
   "source": [
    "my_clf.score(X_test, y_test)"
   ]
  },
  {
   "cell_type": "markdown",
   "metadata": {},
   "source": [
    "Задание 4"
   ]
  },
  {
   "cell_type": "code",
   "execution_count": 29,
   "metadata": {},
   "outputs": [],
   "source": [
    "clf = KNeighborsClassifier(n_neighbors=best_n_neighbors, algorithm='kd_tree')\n",
    "my_clf = MyKNeighborsClassifier(n_neighbors=best_n_neighbors, algorithm='kd_tree')"
   ]
  },
  {
   "cell_type": "code",
   "execution_count": 30,
   "metadata": {},
   "outputs": [],
   "source": [
    "X_train, X_test, y_train, y_test = train_test_split(mnist.data, mnist.target, test_size=0.01, stratify=mnist.target)"
   ]
  },
  {
   "cell_type": "code",
   "execution_count": 31,
   "metadata": {},
   "outputs": [
    {
     "name": "stdout",
     "output_type": "stream",
     "text": [
      "Wall time: 20.6 s\n"
     ]
    },
    {
     "data": {
      "text/plain": [
       "KNeighborsClassifier(algorithm='kd_tree', leaf_size=30, metric='minkowski',\n",
       "           metric_params=None, n_jobs=1, n_neighbors=15, p=2,\n",
       "           weights='uniform')"
      ]
     },
     "execution_count": 31,
     "metadata": {},
     "output_type": "execute_result"
    }
   ],
   "source": [
    "%time clf.fit(X_train, y_train)"
   ]
  },
  {
   "cell_type": "code",
   "execution_count": 32,
   "metadata": {},
   "outputs": [
    {
     "name": "stdout",
     "output_type": "stream",
     "text": [
      "Wall time: 19.7 s\n"
     ]
    }
   ],
   "source": [
    "%time my_clf.fit(X_train, y_train)"
   ]
  },
  {
   "cell_type": "code",
   "execution_count": 33,
   "metadata": {},
   "outputs": [
    {
     "name": "stdout",
     "output_type": "stream",
     "text": [
      "Wall time: 59.4 s\n"
     ]
    },
    {
     "data": {
      "text/plain": [
       "array([9., 7., 6., 0., 6., 0., 6., 7., 6., 3., 5., 9., 0., 6., 7., 1., 3.,\n",
       "       2., 4., 2., 1., 8., 1., 9., 4., 2., 2., 8., 7., 8., 7., 8., 0., 4.,\n",
       "       7., 2., 9., 8., 9., 8., 6., 6., 5., 3., 0., 9., 7., 2., 6., 7., 2.,\n",
       "       4., 8., 5., 3., 8., 3., 4., 0., 1., 6., 1., 6., 9., 1., 7., 7., 5.,\n",
       "       2., 9., 7., 9., 0., 6., 1., 4., 3., 8., 7., 2., 2., 6., 1., 0., 2.,\n",
       "       9., 4., 9., 5., 5., 2., 1., 1., 9., 1., 2., 2., 9., 1., 8., 2., 5.,\n",
       "       6., 2., 0., 5., 8., 0., 3., 1., 7., 4., 8., 7., 9., 0., 0., 1., 0.,\n",
       "       4., 9., 7., 6., 8., 5., 4., 4., 1., 0., 6., 9., 3., 3., 5., 2., 8.,\n",
       "       8., 3., 1., 7., 1., 1., 7., 4., 9., 7., 6., 7., 0., 5., 6., 1., 4.,\n",
       "       9., 3., 1., 6., 0., 7., 6., 9., 2., 9., 5., 3., 5., 0., 9., 2., 1.,\n",
       "       5., 0., 9., 8., 1., 3., 6., 8., 5., 7., 8., 9., 2., 7., 9., 7., 6.,\n",
       "       5., 2., 0., 7., 7., 0., 0., 5., 3., 1., 7., 6., 6., 2., 3., 0., 3.,\n",
       "       6., 8., 8., 3., 2., 6., 0., 3., 1., 7., 7., 9., 6., 5., 5., 6., 0.,\n",
       "       2., 0., 5., 2., 4., 1., 1., 6., 0., 9., 7., 5., 4., 2., 9., 7., 2.,\n",
       "       1., 0., 2., 7., 2., 3., 4., 3., 7., 4., 4., 6., 3., 0., 7., 4., 7.,\n",
       "       1., 1., 7., 7., 7., 4., 5., 5., 4., 1., 1., 7., 1., 3., 9., 4., 8.,\n",
       "       5., 5., 4., 4., 4., 4., 1., 1., 3., 6., 2., 4., 2., 1., 1., 4., 3.,\n",
       "       2., 7., 1., 0., 0., 7., 5., 0., 5., 2., 1., 0., 6., 2., 5., 3., 6.,\n",
       "       7., 3., 4., 6., 6., 6., 4., 3., 0., 1., 5., 9., 8., 5., 3., 8., 6.,\n",
       "       4., 4., 9., 3., 0., 3., 1., 8., 3., 4., 0., 0., 5., 3., 0., 4., 1.,\n",
       "       2., 6., 1., 2., 0., 1., 2., 7., 2., 2., 5., 3., 3., 7., 3., 0., 0.,\n",
       "       5., 8., 8., 6., 9., 1., 4., 9., 9., 7., 1., 6., 3., 0., 9., 6., 3.,\n",
       "       4., 4., 9., 5., 8., 8., 5., 5., 0., 9., 3., 8., 9., 4., 7., 3., 8.,\n",
       "       6., 0., 6., 8., 3., 5., 4., 3., 9., 6., 3., 5., 7., 4., 3., 9., 7.,\n",
       "       0., 5., 1., 8., 9., 7., 0., 2., 1., 6., 6., 1., 1., 4., 7., 9., 6.,\n",
       "       8., 2., 8., 7., 9., 2., 3., 9., 9., 6., 2., 3., 9., 0., 9., 1., 3.,\n",
       "       5., 7., 3., 5., 9., 8., 5., 7., 4., 9., 3., 8., 8., 3., 6., 7., 6.,\n",
       "       3., 5., 8., 0., 2., 2., 1., 7., 5., 3., 8., 7., 2., 7., 0., 8., 2.,\n",
       "       3., 6., 9., 9., 3., 7., 4., 2., 1., 0., 3., 8., 2., 5., 8., 6., 3.,\n",
       "       0., 3., 4., 9., 2., 5., 0., 3., 1., 4., 7., 7., 8., 0., 0., 1., 2.,\n",
       "       1., 1., 9., 1., 9., 1., 6., 0., 0., 1., 8., 9., 7., 5., 1., 1., 1.,\n",
       "       6., 8., 1., 7., 0., 4., 9., 4., 4., 5., 8., 0., 6., 0., 8., 0., 6.,\n",
       "       4., 3., 1., 2., 4., 7., 3., 0., 4., 1., 8., 6., 0., 2., 9., 3., 4.,\n",
       "       9., 1., 4., 5., 5., 6., 0., 9., 6., 8., 7., 1., 4., 0., 4., 3., 9.,\n",
       "       2., 9., 6., 9., 1., 6., 0., 2., 3., 2., 3., 4., 6., 9., 2., 4., 4.,\n",
       "       7., 4., 2., 9., 9., 8., 1., 1., 0., 9., 5., 4., 2., 8., 2., 6., 0.,\n",
       "       2., 7., 2., 5., 8., 8., 3., 6., 0., 3., 4., 5., 5., 7., 5., 8., 6.,\n",
       "       1., 0., 2., 6., 1., 3., 0., 7., 5., 9., 9., 7., 3., 2., 7., 5., 8.,\n",
       "       0., 2., 4., 9., 3., 6., 8., 1., 1., 2., 1., 3., 9., 9., 8., 5., 9.,\n",
       "       8., 4., 8., 5., 7., 4., 1., 6., 3., 2., 2., 9., 8., 3., 1., 8., 7.,\n",
       "       3., 7., 9., 3., 1., 4., 1., 1., 6., 1., 8., 2., 2., 0., 5., 8., 9.,\n",
       "       8., 6., 1.])"
      ]
     },
     "execution_count": 33,
     "metadata": {},
     "output_type": "execute_result"
    }
   ],
   "source": [
    "%time clf.predict(X_test)"
   ]
  },
  {
   "cell_type": "code",
   "execution_count": 34,
   "metadata": {},
   "outputs": [
    {
     "name": "stdout",
     "output_type": "stream",
     "text": [
      "Wall time: 49.5 s\n"
     ]
    },
    {
     "data": {
      "text/plain": [
       "array([9, 7, 6, 0, 6, 0, 6, 7, 6, 3, 5, 9, 0, 6, 7, 1, 3, 2, 4, 2, 1, 8,\n",
       "       1, 9, 4, 2, 2, 8, 7, 8, 7, 8, 0, 4, 7, 2, 9, 8, 9, 8, 6, 6, 5, 3,\n",
       "       0, 9, 7, 2, 6, 7, 2, 4, 8, 5, 3, 8, 3, 4, 0, 1, 6, 1, 6, 9, 1, 7,\n",
       "       7, 5, 2, 9, 7, 9, 0, 6, 1, 4, 3, 8, 7, 2, 2, 6, 1, 0, 2, 9, 4, 9,\n",
       "       5, 5, 2, 1, 1, 9, 1, 2, 2, 9, 1, 8, 2, 5, 6, 2, 0, 5, 8, 0, 3, 1,\n",
       "       7, 4, 8, 7, 9, 0, 0, 1, 0, 4, 9, 7, 6, 8, 5, 4, 4, 1, 0, 6, 9, 3,\n",
       "       3, 5, 2, 8, 8, 3, 1, 7, 1, 1, 7, 4, 9, 7, 6, 7, 0, 5, 6, 1, 4, 9,\n",
       "       3, 1, 6, 0, 7, 6, 9, 2, 9, 5, 3, 5, 0, 9, 2, 1, 5, 0, 9, 8, 1, 3,\n",
       "       6, 8, 5, 7, 8, 9, 2, 7, 9, 7, 6, 5, 2, 0, 7, 7, 0, 0, 5, 3, 1, 7,\n",
       "       6, 6, 2, 3, 0, 3, 6, 8, 8, 3, 2, 6, 0, 3, 1, 7, 7, 9, 6, 5, 5, 6,\n",
       "       0, 2, 0, 5, 2, 4, 1, 1, 6, 0, 9, 7, 5, 4, 2, 9, 7, 2, 1, 0, 2, 7,\n",
       "       2, 3, 4, 3, 7, 4, 4, 6, 3, 0, 7, 4, 7, 1, 1, 7, 7, 7, 4, 5, 5, 4,\n",
       "       1, 1, 7, 1, 3, 9, 4, 8, 5, 5, 4, 4, 4, 4, 1, 1, 3, 6, 2, 4, 2, 1,\n",
       "       1, 4, 3, 2, 7, 1, 0, 0, 7, 5, 0, 5, 2, 1, 0, 6, 2, 5, 3, 6, 7, 3,\n",
       "       4, 6, 6, 6, 4, 3, 0, 1, 5, 9, 8, 5, 3, 8, 6, 4, 4, 9, 3, 0, 3, 1,\n",
       "       8, 3, 4, 0, 0, 5, 3, 0, 4, 1, 2, 6, 1, 2, 0, 1, 2, 7, 2, 2, 5, 3,\n",
       "       3, 7, 3, 0, 0, 5, 8, 8, 6, 9, 1, 4, 9, 9, 7, 1, 6, 3, 0, 9, 6, 3,\n",
       "       4, 4, 9, 5, 8, 8, 5, 5, 0, 9, 3, 8, 9, 4, 7, 3, 8, 6, 0, 6, 8, 3,\n",
       "       5, 4, 3, 9, 6, 3, 5, 7, 4, 3, 9, 7, 0, 5, 1, 8, 9, 7, 0, 2, 1, 6,\n",
       "       6, 1, 1, 4, 7, 9, 6, 8, 2, 8, 7, 9, 2, 3, 9, 9, 6, 2, 3, 9, 0, 9,\n",
       "       1, 3, 5, 7, 3, 5, 9, 8, 5, 7, 4, 9, 3, 8, 8, 3, 6, 7, 6, 3, 5, 8,\n",
       "       0, 2, 2, 1, 7, 5, 3, 8, 7, 2, 7, 0, 8, 2, 3, 6, 9, 9, 3, 7, 4, 2,\n",
       "       1, 0, 3, 8, 2, 5, 8, 6, 3, 0, 3, 4, 9, 2, 5, 0, 3, 1, 4, 7, 7, 8,\n",
       "       0, 0, 1, 2, 1, 1, 9, 1, 9, 1, 6, 0, 0, 1, 8, 9, 7, 5, 1, 1, 1, 6,\n",
       "       8, 1, 7, 0, 4, 9, 4, 4, 5, 8, 0, 6, 0, 8, 0, 6, 4, 3, 1, 2, 4, 7,\n",
       "       3, 0, 4, 1, 8, 6, 0, 2, 9, 3, 4, 9, 1, 4, 5, 5, 6, 0, 9, 6, 8, 7,\n",
       "       1, 4, 0, 4, 3, 9, 2, 9, 6, 9, 1, 6, 0, 2, 3, 2, 3, 4, 6, 9, 2, 4,\n",
       "       4, 7, 4, 2, 9, 9, 8, 1, 1, 0, 9, 5, 4, 2, 8, 2, 6, 0, 2, 7, 2, 5,\n",
       "       8, 8, 3, 6, 0, 3, 4, 5, 5, 7, 5, 8, 6, 1, 0, 2, 6, 1, 3, 0, 7, 5,\n",
       "       9, 9, 7, 3, 2, 7, 5, 8, 0, 2, 4, 9, 3, 6, 8, 1, 1, 2, 1, 3, 9, 9,\n",
       "       8, 5, 9, 8, 4, 8, 5, 7, 4, 1, 6, 3, 2, 2, 9, 8, 3, 1, 8, 7, 3, 7,\n",
       "       9, 3, 1, 4, 1, 1, 6, 1, 8, 2, 2, 0, 5, 8, 9, 8, 6, 1], dtype=int64)"
      ]
     },
     "execution_count": 34,
     "metadata": {},
     "output_type": "execute_result"
    }
   ],
   "source": [
    "%time my_clf.predict(X_test)"
   ]
  },
  {
   "cell_type": "code",
   "execution_count": 35,
   "metadata": {},
   "outputs": [
    {
     "name": "stdout",
     "output_type": "stream",
     "text": [
      "Wall time: 59.4 s\n"
     ]
    },
    {
     "data": {
      "text/plain": [
       "array([[0.        , 0.        , 0.        , ..., 0.06666667, 0.        ,\n",
       "        0.86666667],\n",
       "       [0.        , 0.        , 0.        , ..., 1.        , 0.        ,\n",
       "        0.        ],\n",
       "       [0.        , 0.        , 0.        , ..., 0.        , 0.        ,\n",
       "        0.        ],\n",
       "       ...,\n",
       "       [0.        , 0.        , 0.        , ..., 0.        , 0.93333333,\n",
       "        0.        ],\n",
       "       [0.        , 0.        , 0.        , ..., 0.        , 0.        ,\n",
       "        0.        ],\n",
       "       [0.        , 1.        , 0.        , ..., 0.        , 0.        ,\n",
       "        0.        ]])"
      ]
     },
     "execution_count": 35,
     "metadata": {},
     "output_type": "execute_result"
    }
   ],
   "source": [
    "%time clf.predict_proba(X_test)"
   ]
  },
  {
   "cell_type": "code",
   "execution_count": 36,
   "metadata": {},
   "outputs": [
    {
     "name": "stdout",
     "output_type": "stream",
     "text": [
      "Wall time: 49.5 s\n"
     ]
    },
    {
     "data": {
      "text/plain": [
       "array([[0.        , 0.        , 0.        , ..., 0.06666667, 0.        ,\n",
       "        0.86666667],\n",
       "       [0.        , 0.        , 0.        , ..., 1.        , 0.        ,\n",
       "        0.        ],\n",
       "       [0.        , 0.        , 0.        , ..., 0.        , 0.        ,\n",
       "        0.        ],\n",
       "       ...,\n",
       "       [0.        , 0.        , 0.        , ..., 0.        , 0.93333333,\n",
       "        0.        ],\n",
       "       [0.        , 0.        , 0.        , ..., 0.        , 0.        ,\n",
       "        0.        ],\n",
       "       [0.        , 1.        , 0.        , ..., 0.        , 0.        ,\n",
       "        0.        ]])"
      ]
     },
     "execution_count": 36,
     "metadata": {},
     "output_type": "execute_result"
    }
   ],
   "source": [
    "%time my_clf.predict_proba(X_test)"
   ]
  },
  {
   "cell_type": "code",
   "execution_count": 37,
   "metadata": {},
   "outputs": [
    {
     "data": {
      "text/plain": [
       "0.9728571428571429"
      ]
     },
     "execution_count": 37,
     "metadata": {},
     "output_type": "execute_result"
    }
   ],
   "source": [
    "clf.score(X_test, y_test)"
   ]
  },
  {
   "cell_type": "code",
   "execution_count": 38,
   "metadata": {},
   "outputs": [
    {
     "data": {
      "text/plain": [
       "0.9728571428571429"
      ]
     },
     "execution_count": 38,
     "metadata": {},
     "output_type": "execute_result"
    }
   ],
   "source": [
    "my_clf.score(X_test, y_test)"
   ]
  },
  {
   "cell_type": "markdown",
   "metadata": {},
   "source": [
    "Задание 5"
   ]
  },
  {
   "cell_type": "code",
   "execution_count": 39,
   "metadata": {},
   "outputs": [],
   "source": [
    "# seaborn - библиотека для визуализации данных, основанная на matplotlib. \n",
    "\n",
    "# matplotlib - библиотека для визуализации данных (графики, диаграммы и т.д.)\n",
    "\n",
    "# train_test_split - с помощью этой функции можно разбивать исходную выборку данных на части.\n",
    "# Например: 80% данных выделить в тренировочную выборку, а оставшиеся 20% - в тестовую.\n",
    "\n",
    "# Pipelin%load_ext e (from sklearn.pipeline import Pipeline) - позволяет последовательно преобразовывать данные.\n",
    "\n",
    "# StandardScaler (from sklearn.preprocessing import StandardScaler) - выполняет стандартизацию данных.\n",
    "# Другими словами: преобразовывает данные таким образом, чтобы у выборки было нулевое среднее и единичная дисперсия.\n",
    "\n",
    "# ClassifierMixin - в библиотеке sklearn является базовым (родительским) классом для всех классификаторов.\n",
    "\n",
    "# NeighborsBase - в библиотеке sklearn является базовым классом для алгоритма kNN.\n",
    "# Содержит базовую функциональность метода fit (в методе _fit).\n",
    "\n",
    "# KNeighborsMixin - в библиотеке sklearn является базовым классом для алгоритма kNN.\n",
    "# В нем определены методы для поиска ближайших соседей.\n",
    "\n",
    "# SupervisedIntegerMixin - в библиотеке sklearn является базовым классом для kNN классификатора.\n",
    "# Содержит метод fit."
   ]
  },
  {
   "cell_type": "code",
   "execution_count": null,
   "metadata": {},
   "outputs": [],
   "source": []
  }
 ],
 "metadata": {
  "kernelspec": {
   "display_name": "Python 3",
   "language": "python",
   "name": "python3"
  },
  "language_info": {
   "codemirror_mode": {
    "name": "ipython",
    "version": 3
   },
   "file_extension": ".py",
   "mimetype": "text/x-python",
   "name": "python",
   "nbconvert_exporter": "python",
   "pygments_lexer": "ipython3",
   "version": "3.6.5"
  }
 },
 "nbformat": 4,
 "nbformat_minor": 2
}
